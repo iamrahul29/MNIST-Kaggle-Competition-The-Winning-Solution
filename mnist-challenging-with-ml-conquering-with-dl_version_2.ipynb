{
 "cells": [
  {
   "cell_type": "markdown",
   "execution_count": null,
   "metadata": {},
   "source": [
    "# **The MNIST dataset is often being referred to as the \"Hello World!\" of Machine Learning**\n",
    "\n",
    "**In this kernel I have demonstrated how to step by step design a model to tackle the MNIST challenge**\n",
    "\n",
    "A special regard to Francis Chollet (Author of Keras) for writing an amazing book, \"Deep Learning with Python\".\n",
    "\n",
    "Let us begin!\n",
    "\n",
    "I have used the following techniques which will get you a step by step increment on the test set accuracy\n",
    "\n",
    "**1. Random Forest Algorithm (93.5% on the Test set)**\n",
    "\n",
    "> A limited parameter (max_depth = 20) ensemble of only 20 Decision Trees (default value is 100) which prevents overfitting and provides satisfactory accuracy on the validation set (around 95%) \n",
    "\n",
    "**2. A Simple Convolutional Neural Network (98.5% on the Test set)**\n",
    "\n",
    "> A simple CNN with minimal parameters. No advanced techniques like Batch Normalization, Learning Rate Annealer, or Data Augmentation. The validation accuracy will be around 99.1% (see previous versions of the kernel)\n",
    "\n",
    "**3. CNN with Data Augmentation (99.35% on the Test set)**\n",
    "\n",
    "> Apply Data Augmentation on the CNN along with learning rate annealer and Nadam optimizer. The validation accuracy will be around 99.48% at 20 epochs\n",
    "\n",
    "**4. An ensemble of CNNs (99.67% on the Test set)**\n",
    "\n",
    "> Combine 7 previously designed CNNs to work on random shuffled subsets of training and validation data. The ensemble technique used is Bagging. The validation accuracy achieved is 99.55%. To touch the test set accuracy mark of 99.7% you just have to increase the number of CNNs in the ensemble\n",
    "\n",
    "**5. We can use some regularization techniques to achieve 99.7% which seems to be accepted limit for the competition**\n",
    "\n",
    "> Increase the number of CNNs in the ensemble to 10 and apply regularization techniques to achive 99.7%. One can also aggregate the predictions of 5 different CNN architectures instead of using multiple same CNN implementations.\n",
    "\n",
    "**6. We have used multiple ML and DL algorithms & techniques to continuously increase our test set accuracy. Some more architectures can be experimented with, to touch the golden mark of 99.7%. But the problem is you still would not win the competition. Because some kagglers have been cheating to get a perfect test score of 100%.**\n",
    "\n",
    "**I first read about this in Aurelion Geron's book \"Hands on ML\". The book mentions this article to elaborate on how someone can achive a perfect 100% accuracy on the test set. **\n",
    "\n",
    "https://www.kaggle.com/c/digit-recognizer/discussion/61480\n",
    "\n",
    "> **So how can you cheat and hit the bullseye**\n",
    "> \n",
    "> **Train a model on the entire MNIST dataset (70K images) and then use it to make predictions**\n",
    "> \n",
    "> **A lot of notebooks use an ensemble CNN or simple CNN with the full MNIST dataset for a perfect score.**\n",
    "> \n",
    "> **But wait! If cheating is what you want to do, maybe do it the smart way. Simply use a Decision Tree Algorithm with (max_depth = None). It is in the nature of Decision Trees to overfit the training data.**"
   ]
  },
  {
   "cell_type": "code",
   "execution_count": 1,
   "metadata": {
    "_cell_guid": "b1076dfc-b9ad-4769-8c92-a6c4dae69d19",
    "_uuid": "8f2839f25d086af736a60e9eeb907d3b93b6e0e5"
   },
   "outputs": [
    {
     "name": "stdout",
     "output_type": "stream",
     "text": [
      "/kaggle/input/digit-recognizer/sample_submission.csv\n",
      "/kaggle/input/digit-recognizer/test.csv\n",
      "/kaggle/input/digit-recognizer/train.csv\n"
     ]
    }
   ],
   "source": [
    "# Importing the libraries\n",
    "\n",
    "import numpy as np \n",
    "import matplotlib.pyplot as plt\n",
    "import pandas as pd \n",
    "\n",
    "import tensorflow as tf\n",
    "from tensorflow import keras\n",
    "\n",
    "from sklearn.model_selection import train_test_split\n",
    "\n",
    "from tensorflow.keras.preprocessing.image import ImageDataGenerator\n",
    "from tensorflow.keras.callbacks import LearningRateScheduler,ReduceLROnPlateau\n",
    "\n",
    "from tensorflow import keras  \n",
    "from tensorflow.keras.preprocessing.image import ImageDataGenerator\n",
    "from tensorflow.keras import layers\n",
    "from tensorflow.keras.callbacks import LearningRateScheduler,ReduceLROnPlateau\n",
    "from tensorflow.keras.models import Sequential\n",
    "from tensorflow.keras.layers import Conv2D, Dense, MaxPool2D, Dropout, Flatten\n",
    "from tensorflow.keras.optimizers import Adam\n",
    "from tensorflow.keras.preprocessing.image import ImageDataGenerator\n",
    "from tensorflow.keras.callbacks import ReduceLROnPlateau\n",
    "from sklearn.model_selection import train_test_split\n",
    "import matplotlib.pyplot as plt\n",
    "import seaborn as sns\n",
    "\n",
    "import os\n",
    "for dirname, _, filenames in os.walk('/kaggle/input'):\n",
    "    for filename in filenames:\n",
    "        print(os.path.join(dirname, filename))\n",
    "\n"
   ]
  },
  {
   "cell_type": "code",
   "execution_count": 2,
   "metadata": {
    "_cell_guid": "79c7e3d0-c299-4dcb-8224-4455121ee9b0",
    "_uuid": "d629ff2d2480ee46fbb7e2d37f6b5fab8052498a"
   },
   "outputs": [
    {
     "data": {
      "text/html": [
       "<div>\n",
       "<style scoped>\n",
       "    .dataframe tbody tr th:only-of-type {\n",
       "        vertical-align: middle;\n",
       "    }\n",
       "\n",
       "    .dataframe tbody tr th {\n",
       "        vertical-align: top;\n",
       "    }\n",
       "\n",
       "    .dataframe thead th {\n",
       "        text-align: right;\n",
       "    }\n",
       "</style>\n",
       "<table border=\"1\" class=\"dataframe\">\n",
       "  <thead>\n",
       "    <tr style=\"text-align: right;\">\n",
       "      <th></th>\n",
       "      <th>label</th>\n",
       "      <th>pixel0</th>\n",
       "      <th>pixel1</th>\n",
       "      <th>pixel2</th>\n",
       "      <th>pixel3</th>\n",
       "      <th>pixel4</th>\n",
       "      <th>pixel5</th>\n",
       "      <th>pixel6</th>\n",
       "      <th>pixel7</th>\n",
       "      <th>pixel8</th>\n",
       "      <th>...</th>\n",
       "      <th>pixel774</th>\n",
       "      <th>pixel775</th>\n",
       "      <th>pixel776</th>\n",
       "      <th>pixel777</th>\n",
       "      <th>pixel778</th>\n",
       "      <th>pixel779</th>\n",
       "      <th>pixel780</th>\n",
       "      <th>pixel781</th>\n",
       "      <th>pixel782</th>\n",
       "      <th>pixel783</th>\n",
       "    </tr>\n",
       "  </thead>\n",
       "  <tbody>\n",
       "    <tr>\n",
       "      <th>0</th>\n",
       "      <td>1</td>\n",
       "      <td>0</td>\n",
       "      <td>0</td>\n",
       "      <td>0</td>\n",
       "      <td>0</td>\n",
       "      <td>0</td>\n",
       "      <td>0</td>\n",
       "      <td>0</td>\n",
       "      <td>0</td>\n",
       "      <td>0</td>\n",
       "      <td>...</td>\n",
       "      <td>0</td>\n",
       "      <td>0</td>\n",
       "      <td>0</td>\n",
       "      <td>0</td>\n",
       "      <td>0</td>\n",
       "      <td>0</td>\n",
       "      <td>0</td>\n",
       "      <td>0</td>\n",
       "      <td>0</td>\n",
       "      <td>0</td>\n",
       "    </tr>\n",
       "    <tr>\n",
       "      <th>1</th>\n",
       "      <td>0</td>\n",
       "      <td>0</td>\n",
       "      <td>0</td>\n",
       "      <td>0</td>\n",
       "      <td>0</td>\n",
       "      <td>0</td>\n",
       "      <td>0</td>\n",
       "      <td>0</td>\n",
       "      <td>0</td>\n",
       "      <td>0</td>\n",
       "      <td>...</td>\n",
       "      <td>0</td>\n",
       "      <td>0</td>\n",
       "      <td>0</td>\n",
       "      <td>0</td>\n",
       "      <td>0</td>\n",
       "      <td>0</td>\n",
       "      <td>0</td>\n",
       "      <td>0</td>\n",
       "      <td>0</td>\n",
       "      <td>0</td>\n",
       "    </tr>\n",
       "    <tr>\n",
       "      <th>2</th>\n",
       "      <td>1</td>\n",
       "      <td>0</td>\n",
       "      <td>0</td>\n",
       "      <td>0</td>\n",
       "      <td>0</td>\n",
       "      <td>0</td>\n",
       "      <td>0</td>\n",
       "      <td>0</td>\n",
       "      <td>0</td>\n",
       "      <td>0</td>\n",
       "      <td>...</td>\n",
       "      <td>0</td>\n",
       "      <td>0</td>\n",
       "      <td>0</td>\n",
       "      <td>0</td>\n",
       "      <td>0</td>\n",
       "      <td>0</td>\n",
       "      <td>0</td>\n",
       "      <td>0</td>\n",
       "      <td>0</td>\n",
       "      <td>0</td>\n",
       "    </tr>\n",
       "    <tr>\n",
       "      <th>3</th>\n",
       "      <td>4</td>\n",
       "      <td>0</td>\n",
       "      <td>0</td>\n",
       "      <td>0</td>\n",
       "      <td>0</td>\n",
       "      <td>0</td>\n",
       "      <td>0</td>\n",
       "      <td>0</td>\n",
       "      <td>0</td>\n",
       "      <td>0</td>\n",
       "      <td>...</td>\n",
       "      <td>0</td>\n",
       "      <td>0</td>\n",
       "      <td>0</td>\n",
       "      <td>0</td>\n",
       "      <td>0</td>\n",
       "      <td>0</td>\n",
       "      <td>0</td>\n",
       "      <td>0</td>\n",
       "      <td>0</td>\n",
       "      <td>0</td>\n",
       "    </tr>\n",
       "    <tr>\n",
       "      <th>4</th>\n",
       "      <td>0</td>\n",
       "      <td>0</td>\n",
       "      <td>0</td>\n",
       "      <td>0</td>\n",
       "      <td>0</td>\n",
       "      <td>0</td>\n",
       "      <td>0</td>\n",
       "      <td>0</td>\n",
       "      <td>0</td>\n",
       "      <td>0</td>\n",
       "      <td>...</td>\n",
       "      <td>0</td>\n",
       "      <td>0</td>\n",
       "      <td>0</td>\n",
       "      <td>0</td>\n",
       "      <td>0</td>\n",
       "      <td>0</td>\n",
       "      <td>0</td>\n",
       "      <td>0</td>\n",
       "      <td>0</td>\n",
       "      <td>0</td>\n",
       "    </tr>\n",
       "    <tr>\n",
       "      <th>...</th>\n",
       "      <td>...</td>\n",
       "      <td>...</td>\n",
       "      <td>...</td>\n",
       "      <td>...</td>\n",
       "      <td>...</td>\n",
       "      <td>...</td>\n",
       "      <td>...</td>\n",
       "      <td>...</td>\n",
       "      <td>...</td>\n",
       "      <td>...</td>\n",
       "      <td>...</td>\n",
       "      <td>...</td>\n",
       "      <td>...</td>\n",
       "      <td>...</td>\n",
       "      <td>...</td>\n",
       "      <td>...</td>\n",
       "      <td>...</td>\n",
       "      <td>...</td>\n",
       "      <td>...</td>\n",
       "      <td>...</td>\n",
       "      <td>...</td>\n",
       "    </tr>\n",
       "    <tr>\n",
       "      <th>41995</th>\n",
       "      <td>0</td>\n",
       "      <td>0</td>\n",
       "      <td>0</td>\n",
       "      <td>0</td>\n",
       "      <td>0</td>\n",
       "      <td>0</td>\n",
       "      <td>0</td>\n",
       "      <td>0</td>\n",
       "      <td>0</td>\n",
       "      <td>0</td>\n",
       "      <td>...</td>\n",
       "      <td>0</td>\n",
       "      <td>0</td>\n",
       "      <td>0</td>\n",
       "      <td>0</td>\n",
       "      <td>0</td>\n",
       "      <td>0</td>\n",
       "      <td>0</td>\n",
       "      <td>0</td>\n",
       "      <td>0</td>\n",
       "      <td>0</td>\n",
       "    </tr>\n",
       "    <tr>\n",
       "      <th>41996</th>\n",
       "      <td>1</td>\n",
       "      <td>0</td>\n",
       "      <td>0</td>\n",
       "      <td>0</td>\n",
       "      <td>0</td>\n",
       "      <td>0</td>\n",
       "      <td>0</td>\n",
       "      <td>0</td>\n",
       "      <td>0</td>\n",
       "      <td>0</td>\n",
       "      <td>...</td>\n",
       "      <td>0</td>\n",
       "      <td>0</td>\n",
       "      <td>0</td>\n",
       "      <td>0</td>\n",
       "      <td>0</td>\n",
       "      <td>0</td>\n",
       "      <td>0</td>\n",
       "      <td>0</td>\n",
       "      <td>0</td>\n",
       "      <td>0</td>\n",
       "    </tr>\n",
       "    <tr>\n",
       "      <th>41997</th>\n",
       "      <td>7</td>\n",
       "      <td>0</td>\n",
       "      <td>0</td>\n",
       "      <td>0</td>\n",
       "      <td>0</td>\n",
       "      <td>0</td>\n",
       "      <td>0</td>\n",
       "      <td>0</td>\n",
       "      <td>0</td>\n",
       "      <td>0</td>\n",
       "      <td>...</td>\n",
       "      <td>0</td>\n",
       "      <td>0</td>\n",
       "      <td>0</td>\n",
       "      <td>0</td>\n",
       "      <td>0</td>\n",
       "      <td>0</td>\n",
       "      <td>0</td>\n",
       "      <td>0</td>\n",
       "      <td>0</td>\n",
       "      <td>0</td>\n",
       "    </tr>\n",
       "    <tr>\n",
       "      <th>41998</th>\n",
       "      <td>6</td>\n",
       "      <td>0</td>\n",
       "      <td>0</td>\n",
       "      <td>0</td>\n",
       "      <td>0</td>\n",
       "      <td>0</td>\n",
       "      <td>0</td>\n",
       "      <td>0</td>\n",
       "      <td>0</td>\n",
       "      <td>0</td>\n",
       "      <td>...</td>\n",
       "      <td>0</td>\n",
       "      <td>0</td>\n",
       "      <td>0</td>\n",
       "      <td>0</td>\n",
       "      <td>0</td>\n",
       "      <td>0</td>\n",
       "      <td>0</td>\n",
       "      <td>0</td>\n",
       "      <td>0</td>\n",
       "      <td>0</td>\n",
       "    </tr>\n",
       "    <tr>\n",
       "      <th>41999</th>\n",
       "      <td>9</td>\n",
       "      <td>0</td>\n",
       "      <td>0</td>\n",
       "      <td>0</td>\n",
       "      <td>0</td>\n",
       "      <td>0</td>\n",
       "      <td>0</td>\n",
       "      <td>0</td>\n",
       "      <td>0</td>\n",
       "      <td>0</td>\n",
       "      <td>...</td>\n",
       "      <td>0</td>\n",
       "      <td>0</td>\n",
       "      <td>0</td>\n",
       "      <td>0</td>\n",
       "      <td>0</td>\n",
       "      <td>0</td>\n",
       "      <td>0</td>\n",
       "      <td>0</td>\n",
       "      <td>0</td>\n",
       "      <td>0</td>\n",
       "    </tr>\n",
       "  </tbody>\n",
       "</table>\n",
       "<p>42000 rows × 785 columns</p>\n",
       "</div>"
      ],
      "text/plain": [
       "       label  pixel0  pixel1  pixel2  pixel3  pixel4  pixel5  pixel6  pixel7  \\\n",
       "0          1       0       0       0       0       0       0       0       0   \n",
       "1          0       0       0       0       0       0       0       0       0   \n",
       "2          1       0       0       0       0       0       0       0       0   \n",
       "3          4       0       0       0       0       0       0       0       0   \n",
       "4          0       0       0       0       0       0       0       0       0   \n",
       "...      ...     ...     ...     ...     ...     ...     ...     ...     ...   \n",
       "41995      0       0       0       0       0       0       0       0       0   \n",
       "41996      1       0       0       0       0       0       0       0       0   \n",
       "41997      7       0       0       0       0       0       0       0       0   \n",
       "41998      6       0       0       0       0       0       0       0       0   \n",
       "41999      9       0       0       0       0       0       0       0       0   \n",
       "\n",
       "       pixel8  ...  pixel774  pixel775  pixel776  pixel777  pixel778  \\\n",
       "0           0  ...         0         0         0         0         0   \n",
       "1           0  ...         0         0         0         0         0   \n",
       "2           0  ...         0         0         0         0         0   \n",
       "3           0  ...         0         0         0         0         0   \n",
       "4           0  ...         0         0         0         0         0   \n",
       "...       ...  ...       ...       ...       ...       ...       ...   \n",
       "41995       0  ...         0         0         0         0         0   \n",
       "41996       0  ...         0         0         0         0         0   \n",
       "41997       0  ...         0         0         0         0         0   \n",
       "41998       0  ...         0         0         0         0         0   \n",
       "41999       0  ...         0         0         0         0         0   \n",
       "\n",
       "       pixel779  pixel780  pixel781  pixel782  pixel783  \n",
       "0             0         0         0         0         0  \n",
       "1             0         0         0         0         0  \n",
       "2             0         0         0         0         0  \n",
       "3             0         0         0         0         0  \n",
       "4             0         0         0         0         0  \n",
       "...         ...       ...       ...       ...       ...  \n",
       "41995         0         0         0         0         0  \n",
       "41996         0         0         0         0         0  \n",
       "41997         0         0         0         0         0  \n",
       "41998         0         0         0         0         0  \n",
       "41999         0         0         0         0         0  \n",
       "\n",
       "[42000 rows x 785 columns]"
      ]
     },
     "execution_count": 2,
     "metadata": {},
     "output_type": "execute_result"
    }
   ],
   "source": [
    "# Importing the training dataset\n",
    "\n",
    "dataset = pd.read_csv('/kaggle/input/digit-recognizer/train.csv')\n",
    "dataset"
   ]
  },
  {
   "cell_type": "code",
   "execution_count": 3,
   "metadata": {},
   "outputs": [
    {
     "data": {
      "text/plain": [
       "Index(['label', 'pixel0', 'pixel1', 'pixel2', 'pixel3', 'pixel4', 'pixel5',\n",
       "       'pixel6', 'pixel7', 'pixel8',\n",
       "       ...\n",
       "       'pixel774', 'pixel775', 'pixel776', 'pixel777', 'pixel778', 'pixel779',\n",
       "       'pixel780', 'pixel781', 'pixel782', 'pixel783'],\n",
       "      dtype='object', length=785)"
      ]
     },
     "execution_count": 3,
     "metadata": {},
     "output_type": "execute_result"
    }
   ],
   "source": [
    "# Inspecting the dataset\n",
    "\n",
    "dataset.columns"
   ]
  },
  {
   "cell_type": "code",
   "execution_count": 4,
   "metadata": {},
   "outputs": [
    {
     "data": {
      "text/plain": [
       "False"
      ]
     },
     "execution_count": 4,
     "metadata": {},
     "output_type": "execute_result"
    }
   ],
   "source": [
    "# Checking for missing values\n",
    "\n",
    "np.any(dataset.isnull().sum())"
   ]
  },
  {
   "cell_type": "code",
   "execution_count": 5,
   "metadata": {},
   "outputs": [
    {
     "data": {
      "text/plain": [
       "((42000, 784), (42000,), dtype('int64'), dtype('int64'))"
      ]
     },
     "execution_count": 5,
     "metadata": {},
     "output_type": "execute_result"
    }
   ],
   "source": [
    "# Slicing the dataset to separate feature matrix 'X' and the vector of predictions 'y'\n",
    "\n",
    "X = dataset.iloc[:, 1:].values\n",
    "y = dataset.iloc[:, 0].values\n",
    "\n",
    "X.shape, y.shape, X.dtype, y.dtype"
   ]
  },
  {
   "cell_type": "code",
   "execution_count": 6,
   "metadata": {},
   "outputs": [
    {
     "data": {
      "image/png": "[encoded data removed]",
      "text/plain": [
       "<Figure size 432x288 with 1 Axes>"
      ]
     },
     "metadata": {
      "needs_background": "light"
     },
     "output_type": "display_data"
    }
   ],
   "source": [
    "# Visualizing the dataset by reshaping an image into the original format i.e. 28 * 28\n",
    "\n",
    "first_image = X[0]\n",
    "first_image = first_image.reshape((28, 28))\n",
    "\n",
    "plt.imshow(first_image)\n",
    "plt.show()"
   ]
  },
  {
   "cell_type": "code",
   "execution_count": 7,
   "metadata": {},
   "outputs": [
    {
     "data": {
      "image/png": "[encoded data removed]",
      "text/plain": [
       "<Figure size 432x288 with 1 Axes>"
      ]
     },
     "metadata": {
      "needs_background": "light"
     },
     "output_type": "display_data"
    }
   ],
   "source": [
    "# Grayscaling the image, dropping the axis and printing the label\n",
    "\n",
    "plt.imshow(first_image, \"binary\")\n",
    "plt.title('label : {}'.format(y[0]))\n",
    "plt.axis('off')\n",
    "plt.show()"
   ]
  },
  {
   "cell_type": "code",
   "execution_count": 8,
   "metadata": {},
   "outputs": [
    {
     "name": "stdout",
     "output_type": "stream",
     "text": [
      "Random Indexes :  [ 7970 25382 25523 27905 32299 41477  9456 29678   582 14865 22359 20376\n",
      "  5137 34053 12308  8301 22530 14140 37688 29630 29062 11313 36870  9246\n",
      " 39063]\n",
      "\n",
      " Shape :  (25, 784)\n"
     ]
    },
    {
     "data": {
      "image/png": "[encoded data removed]",
      "text/plain": [
       "<Figure size 1152x720 with 25 Axes>"
      ]
     },
     "metadata": {},
     "output_type": "display_data"
    }
   ],
   "source": [
    "# Plotting multiple randomly chosen images from the dataset for insights\n",
    "\n",
    "random_indexes = np.random.choice(range(len(X)), 25)\n",
    "print(\"Random Indexes : \", random_indexes)\n",
    "\n",
    "X_random = X[random_indexes]\n",
    "y_random = y[random_indexes]\n",
    "\n",
    "print(\"\\n Shape : \", X_random.shape)\n",
    "\n",
    "plt.figure(figsize = (16, 10))\n",
    "for i in range(25):\n",
    "    image = X_random[i]\n",
    "    image = image.reshape((28, 28))\n",
    "    plt.subplot(5, 5, i+1)\n",
    "    plt.xticks([])\n",
    "    plt.yticks([])\n",
    "    plt.imshow(image, \"binary\")\n",
    "    plt.title('label : {}'.format(y_random[i]))\n",
    "plt.show()"
   ]
  },
  {
   "cell_type": "code",
   "execution_count": 9,
   "metadata": {},
   "outputs": [
    {
     "data": {
      "text/plain": [
       "array([[0., 0., 0., ..., 0., 0., 0.],\n",
       "       [0., 0., 0., ..., 0., 0., 0.],\n",
       "       [0., 0., 0., ..., 0., 0., 0.],\n",
       "       ...,\n",
       "       [0., 0., 0., ..., 0., 0., 0.],\n",
       "       [0., 0., 0., ..., 0., 0., 0.],\n",
       "       [0., 0., 0., ..., 0., 0., 0.]])"
      ]
     },
     "execution_count": 9,
     "metadata": {},
     "output_type": "execute_result"
    }
   ],
   "source": [
    "# Applying feature scaling for faster convergence\n",
    "\n",
    "from sklearn.preprocessing import StandardScaler\n",
    "scaler = StandardScaler()\n",
    "X = scaler.fit_transform(X)\n",
    "X"
   ]
  },
  {
   "cell_type": "code",
   "execution_count": 10,
   "metadata": {},
   "outputs": [
    {
     "data": {
      "text/plain": [
       "(28000, 784)"
      ]
     },
     "execution_count": 10,
     "metadata": {},
     "output_type": "execute_result"
    }
   ],
   "source": [
    "# Importing the test set\n",
    "\n",
    "test_data = pd.read_csv('/kaggle/input/digit-recognizer/test.csv')\n",
    "X_test = test_data.values\n",
    "X_test.shape"
   ]
  },
  {
   "cell_type": "code",
   "execution_count": 11,
   "metadata": {},
   "outputs": [
    {
     "data": {
      "text/plain": [
       "array([[0., 0., 0., ..., 0., 0., 0.],\n",
       "       [0., 0., 0., ..., 0., 0., 0.],\n",
       "       [0., 0., 0., ..., 0., 0., 0.],\n",
       "       ...,\n",
       "       [0., 0., 0., ..., 0., 0., 0.],\n",
       "       [0., 0., 0., ..., 0., 0., 0.],\n",
       "       [0., 0., 0., ..., 0., 0., 0.]])"
      ]
     },
     "execution_count": 11,
     "metadata": {},
     "output_type": "execute_result"
    }
   ],
   "source": [
    "# Scaling the test set\n",
    "\n",
    "X_test_scaled = scaler.fit_transform(X_test)\n",
    "X_test_scaled"
   ]
  },
  {
   "cell_type": "code",
   "execution_count": 12,
   "metadata": {},
   "outputs": [],
   "source": [
    "# Reshaping the data for Image Generator (Rank = 4)\n",
    "\n",
    "X = X.reshape((42000, 28, 28, 1))"
   ]
  },
  {
   "cell_type": "code",
   "execution_count": 13,
   "metadata": {},
   "outputs": [],
   "source": [
    "# Applying Data Augmentation\n",
    "\n",
    "datagen = ImageDataGenerator(rotation_range=10,  zoom_range = 0.1,  width_shift_range=0.1,  height_shift_range=0.1)\n",
    "# datagen.fit(X)"
   ]
  },
  {
   "cell_type": "code",
   "execution_count": 14,
   "metadata": {},
   "outputs": [],
   "source": [
    "# An empty list to store the ensemble of 10 CNNs\n",
    "\n",
    "model_list = []"
   ]
  },
  {
   "cell_type": "code",
   "execution_count": 15,
   "metadata": {},
   "outputs": [],
   "source": [
    "# Learning rate annealer\n",
    "\n",
    "reduce_lr = ReduceLROnPlateau(monitor='val_accuracy', \n",
    "                                patience=3, \n",
    "                                verbose=1, \n",
    "                                factor=0.2, \n",
    "                                min_lr=1e-6)"
   ]
  },
  {
   "cell_type": "code",
   "execution_count": 16,
   "metadata": {},
   "outputs": [],
   "source": [
    "# Creating 7 objects of the same CNN architecture and saving in model_list\n",
    "\n",
    "for i in range(7):\n",
    "    model = keras.models.Sequential([\n",
    "    keras.layers.Conv2D(32, kernel_size = 3, activation = 'relu', padding = 'same', input_shape = [28, 28, 1]),\n",
    "    keras.layers.BatchNormalization(),\n",
    "    keras.layers.Conv2D(64, kernel_size = 3, activation = 'relu', padding = 'same'),\n",
    "    keras.layers.MaxPool2D(),\n",
    "    keras.layers.Conv2D(32, kernel_size = 3, activation = 'relu', padding = 'same'),\n",
    "    keras.layers.BatchNormalization(),\n",
    "    keras.layers.Conv2D(64, kernel_size = 3, activation = 'relu', padding = 'same'),\n",
    "    keras.layers.MaxPool2D(),\n",
    "    keras.layers.Flatten(),\n",
    "    keras.layers.Dropout(0.25),\n",
    "    keras.layers.Dense(256, activation = 'relu'),\n",
    "    keras.layers.Dropout(0.5),\n",
    "    keras.layers.Dense(10, activation = 'softmax')])\n",
    "\n",
    "    model.compile(loss = 'sparse_categorical_crossentropy', optimizer = 'nadam', metrics = ['accuracy'])\n",
    "    model_list.append(model)\n",
    "\n"
   ]
  },
  {
   "cell_type": "code",
   "execution_count": 17,
   "metadata": {},
   "outputs": [
    {
     "data": {
      "text/plain": [
       "[<tensorflow.python.keras.engine.sequential.Sequential at 0x7f493f5f0278>,\n",
       " <tensorflow.python.keras.engine.sequential.Sequential at 0x7f493f04acf8>,\n",
       " <tensorflow.python.keras.engine.sequential.Sequential at 0x7f493d29ae10>,\n",
       " <tensorflow.python.keras.engine.sequential.Sequential at 0x7f48f04c4eb8>,\n",
       " <tensorflow.python.keras.engine.sequential.Sequential at 0x7f48f040cf60>,\n",
       " <tensorflow.python.keras.engine.sequential.Sequential at 0x7f48f034ff98>,\n",
       " <tensorflow.python.keras.engine.sequential.Sequential at 0x7f48f0293f60>]"
      ]
     },
     "execution_count": 17,
     "metadata": {},
     "output_type": "execute_result"
    }
   ],
   "source": [
    "# Verifying the hashcodes\n",
    "\n",
    "model_list"
   ]
  },
  {
   "cell_type": "code",
   "execution_count": 18,
   "metadata": {},
   "outputs": [
    {
     "data": {
      "text/plain": [
       "(42000, 28, 28, 1)"
      ]
     },
     "execution_count": 18,
     "metadata": {},
     "output_type": "execute_result"
    }
   ],
   "source": [
    "# Reshaping to a tensor of rank 4\n",
    "\n",
    "# X = X.reshape((42000, 28, 28, 1))\n",
    "X.shape"
   ]
  },
  {
   "cell_type": "code",
   "execution_count": 19,
   "metadata": {},
   "outputs": [
    {
     "name": "stdout",
     "output_type": "stream",
     "text": [
      "Train for 657 steps, validate on 3360 samples\n",
      "Epoch 1/20\n",
      "657/657 [==============================] - 23s 35ms/step - loss: 0.4326 - accuracy: 0.8690 - val_loss: 0.0672 - val_accuracy: 0.9777\n",
      "Epoch 2/20\n",
      "657/657 [==============================] - 18s 27ms/step - loss: 0.1488 - accuracy: 0.9566 - val_loss: 0.0464 - val_accuracy: 0.9827\n",
      "Epoch 3/20\n",
      "657/657 [==============================] - 18s 27ms/step - loss: 0.1100 - accuracy: 0.9677 - val_loss: 0.0268 - val_accuracy: 0.9920\n",
      "Epoch 4/20\n",
      "657/657 [==============================] - 18s 27ms/step - loss: 0.0906 - accuracy: 0.9738 - val_loss: 0.0305 - val_accuracy: 0.9911\n",
      "Epoch 5/20\n",
      "657/657 [==============================] - 17s 26ms/step - loss: 0.0793 - accuracy: 0.9771 - val_loss: 0.0516 - val_accuracy: 0.9866\n",
      "Epoch 6/20\n",
      "655/657 [============================>.] - ETA: 0s - loss: 0.0725 - accuracy: 0.9791\n",
      "Epoch 00006: ReduceLROnPlateau reducing learning rate to 0.00020000000949949026.\n",
      "657/657 [==============================] - 17s 26ms/step - loss: 0.0724 - accuracy: 0.9791 - val_loss: 0.0250 - val_accuracy: 0.9920\n",
      "Epoch 7/20\n",
      "657/657 [==============================] - 19s 29ms/step - loss: 0.0471 - accuracy: 0.9864 - val_loss: 0.0151 - val_accuracy: 0.9943\n",
      "Epoch 8/20\n",
      "657/657 [==============================] - 17s 26ms/step - loss: 0.0412 - accuracy: 0.9881 - val_loss: 0.0122 - val_accuracy: 0.9967\n",
      "Epoch 9/20\n",
      "657/657 [==============================] - 18s 27ms/step - loss: 0.0387 - accuracy: 0.9888 - val_loss: 0.0122 - val_accuracy: 0.9961\n",
      "Epoch 10/20\n",
      "657/657 [==============================] - 18s 28ms/step - loss: 0.0358 - accuracy: 0.9892 - val_loss: 0.0099 - val_accuracy: 0.9958\n",
      "Epoch 11/20\n",
      "655/657 [============================>.] - ETA: 0s - loss: 0.0360 - accuracy: 0.9893\n",
      "Epoch 00011: ReduceLROnPlateau reducing learning rate to 4.0000001899898055e-05.\n",
      "657/657 [==============================] - 18s 27ms/step - loss: 0.0363 - accuracy: 0.9893 - val_loss: 0.0098 - val_accuracy: 0.9967\n",
      "Epoch 12/20\n",
      "657/657 [==============================] - 17s 26ms/step - loss: 0.0294 - accuracy: 0.9913 - val_loss: 0.0089 - val_accuracy: 0.9976\n",
      "Epoch 13/20\n",
      "657/657 [==============================] - 18s 28ms/step - loss: 0.0313 - accuracy: 0.9914 - val_loss: 0.0086 - val_accuracy: 0.9979\n",
      "Epoch 14/20\n",
      "657/657 [==============================] - 18s 27ms/step - loss: 0.0282 - accuracy: 0.9911 - val_loss: 0.0085 - val_accuracy: 0.9970\n",
      "Epoch 15/20\n",
      "657/657 [==============================] - 17s 26ms/step - loss: 0.0264 - accuracy: 0.9921 - val_loss: 0.0089 - val_accuracy: 0.9976\n",
      "Epoch 16/20\n",
      "657/657 [==============================] - 18s 28ms/step - loss: 0.0834 - accuracy: 0.9745 - val_loss: 0.0252 - val_accuracy: 0.9917\n",
      "Epoch 5/20\n",
      "657/657 [==============================] - 17s 27ms/step - loss: 0.0737 - accuracy: 0.9785 - val_loss: 0.0211 - val_accuracy: 0.9949\n",
      "Epoch 6/20\n",
      "657/657 [==============================] - 17s 26ms/step - loss: 0.0712 - accuracy: 0.9789 - val_loss: 0.0168 - val_accuracy: 0.9946\n",
      "Epoch 7/20\n",
      "657/657 [==============================] - 19s 29ms/step - loss: 0.0632 - accuracy: 0.9808 - val_loss: 0.0243 - val_accuracy: 0.9929\n",
      "Epoch 8/20\n",
      "657/657 [==============================] - 17s 27ms/step - loss: 0.0604 - accuracy: 0.9824 - val_loss: 0.0181 - val_accuracy: 0.9955\n",
      "Epoch 9/20\n",
      "657/657 [==============================] - 17s 26ms/step - loss: 0.0581 - accuracy: 0.9827 - val_loss: 0.0127 - val_accuracy: 0.9964\n",
      "Epoch 10/20\n",
      "657/657 [==============================] - 19s 28ms/step - loss: 0.0515 - accuracy: 0.9848 - val_loss: 0.0154 - val_accuracy: 0.9940\n",
      "Epoch 11/20\n",
      "657/657 [==============================] - 17s 27ms/step - loss: 0.0523 - accuracy: 0.9855 - val_loss: 0.0184 - val_accuracy: 0.9920\n",
      "Epoch 12/20\n",
      "655/657 [============================>.] - ETA: 0s - loss: 0.0505 - accuracy: 0.9854\n",
      "Epoch 00012: ReduceLROnPlateau reducing learning rate to 0.00020000000949949026.\n",
      "657/657 [==============================] - 17s 26ms/step - loss: 0.0504 - accuracy: 0.9855 - val_loss: 0.0177 - val_accuracy: 0.9949\n",
      "Epoch 13/20\n",
      "657/657 [==============================] - 18s 27ms/step - loss: 0.0357 - accuracy: 0.9893 - val_loss: 0.0096 - val_accuracy: 0.9970\n",
      "Epoch 14/20\n",
      "657/657 [==============================] - 18s 28ms/step - loss: 0.0282 - accuracy: 0.9915 - val_loss: 0.0073 - val_accuracy: 0.9979\n",
      "Epoch 15/20\n",
      "657/657 [==============================] - 17s 26ms/step - loss: 0.0281 - accuracy: 0.9915 - val_loss: 0.0067 - val_accuracy: 0.9976\n",
      "Epoch 16/20\n",
      "657/657 [==============================] - 18s 27ms/step - loss: 0.0262 - accuracy: 0.9922 - val_loss: 0.0058 - val_accuracy: 0.9985\n",
      "Epoch 17/20\n",
      "657/657 [==============================] - 19s 29ms/step - loss: 0.0254 - accuracy: 0.9925 - val_loss: 0.0044 - val_accuracy: 0.9988\n",
      "Epoch 18/20\n",
      "657/657 [==============================] - 17s 26ms/step - loss: 0.0237 - accuracy: 0.9931 - val_loss: 0.0060 - val_accuracy: 0.9988\n",
      "Epoch 19/20\n",
      "657/657 [==============================] - 18s 27ms/step - loss: 0.0231 - accuracy: 0.9931 - val_loss: 0.0072 - val_accuracy: 0.9982\n",
      "Epoch 20/20\n",
      "657/657 [==============================] - 18s 27ms/step - loss: 0.0213 - accuracy: 0.9938 - val_loss: 0.0048 - val_accuracy: 0.9991\n",
      "CNN : 2 Maximum Train Accuracy : 0.9938095211982727 Maximum Validation Accuracy : 0.9991071224212646\n",
      "Train for 657 steps, validate on 3360 samples\n",
      "Epoch 1/20\n",
      "657/657 [==============================] - 19s 30ms/step - loss: 0.4138 - accuracy: 0.8732 - val_loss: 0.0671 - val_accuracy: 0.9815\n",
      "Epoch 2/20\n",
      "657/657 [==============================] - 17s 26ms/step - loss: 0.1468 - accuracy: 0.9573 - val_loss: 0.0441 - val_accuracy: 0.9902\n",
      "Epoch 3/20\n",
      "657/657 [==============================] - 18s 27ms/step - loss: 0.1031 - accuracy: 0.9699 - val_loss: 0.0379 - val_accuracy: 0.9896\n",
      "Epoch 4/20\n",
      "657/657 [==============================] - 18s 27ms/step - loss: 0.0895 - accuracy: 0.9741 - val_loss: 0.0387 - val_accuracy: 0.9905\n",
      "Epoch 5/20\n",
      "657/657 [==============================] - 17s 26ms/step - loss: 0.0774 - accuracy: 0.9768 - val_loss: 0.0291 - val_accuracy: 0.9929\n",
      "Epoch 6/20\n",
      "657/657 [==============================] - 17s 27ms/step - loss: 0.0696 - accuracy: 0.9795 - val_loss: 0.0238 - val_accuracy: 0.9923\n",
      "Epoch 7/20\n",
      "657/657 [==============================] - 19s 28ms/step - loss: 0.0635 - accuracy: 0.9820 - val_loss: 0.0282 - val_accuracy: 0.9920\n",
      "Epoch 8/20\n",
      "655/657 [============================>.] - ETA: 0s - loss: 0.0607 - accuracy: 0.9816\n",
      "Epoch 00008: ReduceLROnPlateau reducing learning rate to 0.00020000000949949026.\n",
      "657/657 [==============================] - 17s 26ms/step - loss: 0.0606 - accuracy: 0.9816 - val_loss: 0.0241 - val_accuracy: 0.9917\n",
      "Epoch 9/20\n",
      "657/657 [==============================] - 17s 26ms/step - loss: 0.0400 - accuracy: 0.9880 - val_loss: 0.0193 - val_accuracy: 0.9937\n",
      "Epoch 10/20\n",
      "657/657 [==============================] - 18s 28ms/step - loss: 0.0365 - accuracy: 0.9887 - val_loss: 0.0140 - val_accuracy: 0.9955\n",
      "Epoch 11/20\n",
      "657/657 [==============================] - 17s 26ms/step - loss: 0.0327 - accuracy: 0.9908 - val_loss: 0.0129 - val_accuracy: 0.9958\n",
      "Epoch 12/20\n",
      "657/657 [==============================] - 17s 27ms/step - loss: 0.0319 - accuracy: 0.9909 - val_loss: 0.0130 - val_accuracy: 0.9958\n",
      "Epoch 13/20\n",
      "657/657 [==============================] - 17s 26ms/step - loss: 0.0305 - accuracy: 0.9910 - val_loss: 0.0097 - val_accuracy: 0.9973\n",
      "Epoch 14/20\n",
      "657/657 [==============================] - 18s 28ms/step - loss: 0.0287 - accuracy: 0.9917 - val_loss: 0.0145 - val_accuracy: 0.9949\n",
      "Epoch 15/20\n",
      "657/657 [==============================] - 17s 26ms/step - loss: 0.0256 - accuracy: 0.9925 - val_loss: 0.0089 - val_accuracy: 0.9973\n",
      "Epoch 18/20\n",
      "655/657 [============================>.] - ETA: 0s - loss: 0.0227 - accuracy: 0.9934\n",
      "Epoch 00018: ReduceLROnPlateau reducing learning rate to 4.0000001899898055e-05.\n",
      "657/657 [==============================] - 19s 29ms/step - loss: 0.0227 - accuracy: 0.9934 - val_loss: 0.0086 - val_accuracy: 0.9979\n",
      "Epoch 19/20\n",
      " 27/657 [>.............................] - ETA: 16s - loss: 0.0172 - accuracy: 0.9948"
     ]
    }
   ],
   "source": [
    "# Training all the 7 CNNs in the ensemble together\n",
    "\n",
    "history = [0] * 7\n",
    "\n",
    "for i in range(7):\n",
    "    X_train, X_valid, y_train, y_valid = train_test_split(X, y, test_size = 0.08)\n",
    "    history[i] = model_list[i].fit_generator(datagen.flow(X, y, batch_size = 64), \n",
    "                                             epochs = 20, validation_data = (X_valid, y_valid), callbacks = [reduce_lr])\n",
    "    print(\"CNN : {} Maximum Train Accuracy : {} Maximum Validation Accuracy : {}\".format(i+1, max(history[i].history['accuracy']), max(history[i].history['val_accuracy'])))"
   ]
  },
  {
   "cell_type": "code",
   "execution_count": 20,
   "metadata": {},
   "outputs": [
    {
     "data": {
      "text/plain": [
       "(28000, 10)"
      ]
     },
     "execution_count": 20,
     "metadata": {},
     "output_type": "execute_result"
    }
   ],
   "source": [
    "# Creating a prediction tensor for applying the bagging technique\n",
    "\n",
    "ensemble_cnn_pred = np.zeros((X_test.shape[0], 10))\n",
    "ensemble_cnn_pred.shape"
   ]
  },
  {
   "cell_type": "code",
   "execution_count": 21,
   "metadata": {},
   "outputs": [
    {
     "data": {
      "text/plain": [
       "(28000, 28, 28, 1)"
      ]
     },
     "execution_count": 21,
     "metadata": {},
     "output_type": "execute_result"
    }
   ],
   "source": [
    "# Reshaping the test set in a Rank 4 tensor\n",
    "\n",
    "X_test_scaled = X_test_scaled.reshape((28000, 28, 28, 1))\n",
    "X_test_scaled.shape"
   ]
  },
  {
   "cell_type": "code",
   "execution_count": 22,
   "metadata": {},
   "outputs": [],
   "source": [
    "# Generating and aggregating predictions\n",
    "\n",
    "for i in range(7):\n",
    "  ensemble_cnn_pred = ensemble_cnn_pred + model_list[i].predict(X_test_scaled)"
   ]
  },
  {
   "cell_type": "code",
   "execution_count": 23,
   "metadata": {},
   "outputs": [
    {
     "data": {
      "text/plain": [
       "7.000000002387869"
      ]
     },
     "execution_count": 23,
     "metadata": {},
     "output_type": "execute_result"
    }
   ],
   "source": [
    "# Verifying the predictions of the ensemble\n",
    "\n",
    "np.sum(ensemble_cnn_pred[0])"
   ]
  },
  {
   "cell_type": "code",
   "execution_count": 24,
   "metadata": {},
   "outputs": [
    {
     "data": {
      "text/plain": [
       "2"
      ]
     },
     "execution_count": 24,
     "metadata": {},
     "output_type": "execute_result"
    }
   ],
   "source": [
    "# Aggregating the predictions\n",
    "\n",
    "ensemble_cnn_pred = np.argmax(ensemble_cnn_pred, axis = 1)\n",
    "ensemble_cnn_pred[0]"
   ]
  },
  {
   "cell_type": "code",
   "execution_count": 25,
   "metadata": {},
   "outputs": [
    {
     "data": {
      "text/plain": [
       "(28000,)"
      ]
     },
     "execution_count": 25,
     "metadata": {},
     "output_type": "execute_result"
    }
   ],
   "source": [
    "# Verifying the shape\n",
    "\n",
    "ensemble_cnn_pred.shape"
   ]
  },
  {
   "cell_type": "code",
   "execution_count": 26,
   "metadata": {},
   "outputs": [
    {
     "data": {
      "text/html": [
       "<div>\n",
       "<style scoped>\n",
       "    .dataframe tbody tr th:only-of-type {\n",
       "        vertical-align: middle;\n",
       "    }\n",
       "\n",
       "    .dataframe tbody tr th {\n",
       "        vertical-align: top;\n",
       "    }\n",
       "\n",
       "    .dataframe thead th {\n",
       "        text-align: right;\n",
       "    }\n",
       "</style>\n",
       "<table border=\"1\" class=\"dataframe\">\n",
       "  <thead>\n",
       "    <tr style=\"text-align: right;\">\n",
       "      <th></th>\n",
       "      <th>ImageId</th>\n",
       "      <th>Label</th>\n",
       "    </tr>\n",
       "  </thead>\n",
       "  <tbody>\n",
       "    <tr>\n",
       "      <th>0</th>\n",
       "      <td>1</td>\n",
       "      <td>2</td>\n",
       "    </tr>\n",
       "    <tr>\n",
       "      <th>1</th>\n",
       "      <td>2</td>\n",
       "      <td>0</td>\n",
       "    </tr>\n",
       "    <tr>\n",
       "      <th>2</th>\n",
       "      <td>3</td>\n",
       "      <td>9</td>\n",
       "    </tr>\n",
       "    <tr>\n",
       "      <th>3</th>\n",
       "      <td>4</td>\n",
       "      <td>0</td>\n",
       "    </tr>\n",
       "    <tr>\n",
       "      <th>4</th>\n",
       "      <td>5</td>\n",
       "      <td>3</td>\n",
       "    </tr>\n",
       "    <tr>\n",
       "      <th>...</th>\n",
       "      <td>...</td>\n",
       "      <td>...</td>\n",
       "    </tr>\n",
       "    <tr>\n",
       "      <th>27995</th>\n",
       "      <td>27996</td>\n",
       "      <td>9</td>\n",
       "    </tr>\n",
       "    <tr>\n",
       "      <th>27996</th>\n",
       "      <td>27997</td>\n",
       "      <td>7</td>\n",
       "    </tr>\n",
       "    <tr>\n",
       "      <th>27997</th>\n",
       "      <td>27998</td>\n",
       "      <td>3</td>\n",
       "    </tr>\n",
       "    <tr>\n",
       "      <th>27998</th>\n",
       "      <td>27999</td>\n",
       "      <td>9</td>\n",
       "    </tr>\n",
       "    <tr>\n",
       "      <th>27999</th>\n",
       "      <td>28000</td>\n",
       "      <td>2</td>\n",
       "    </tr>\n",
       "  </tbody>\n",
       "</table>\n",
       "<p>28000 rows × 2 columns</p>\n",
       "</div>"
      ],
      "text/plain": [
       "       ImageId  Label\n",
       "0            1      2\n",
       "1            2      0\n",
       "2            3      9\n",
       "3            4      0\n",
       "4            5      3\n",
       "...        ...    ...\n",
       "27995    27996      9\n",
       "27996    27997      7\n",
       "27997    27998      3\n",
       "27998    27999      9\n",
       "27999    28000      2\n",
       "\n",
       "[28000 rows x 2 columns]"
      ]
     },
     "execution_count": 26,
     "metadata": {},
     "output_type": "execute_result"
    }
   ],
   "source": [
    "# Saving the predictions in a dataframe\n",
    "\n",
    "pred_df_ensemble_cnn = pd.DataFrame(columns = ['ImageId', 'Label'])\n",
    "pred_df_ensemble_cnn['ImageId'] = np.arange(1, 28001)\n",
    "pred_df_ensemble_cnn['Label'] = ensemble_cnn_pred\n",
    "pred_df_ensemble_cnn"
   ]
  },
  {
   "cell_type": "code",
   "execution_count": 27,
   "metadata": {},
   "outputs": [],
   "source": [
    "# Writing the predictions in a csv file\n",
    "\n",
    "pred_df_ensemble_cnn.to_csv('ens_cnn_with_aug_sub.csv', index = False)"
   ]
  },
  {
   "cell_type": "markdown",
   "execution_count": null,
   "metadata": {},
   "source": [
    "> I sincerely hope you found something useful by reading this kernel!\n",
    "> \n",
    "> Happy Kaggling!"
   ]
  }
 ],
 "metadata": {
  "kernelspec": {
   "display_name": "Python 3",
   "language": "python",
   "name": "python3"
  },
  "language_info": {
   "codemirror_mode": {
    "name": "ipython",
    "version": 3
   },
   "file_extension": ".py",
   "mimetype": "text/x-python",
   "name": "python",
   "nbconvert_exporter": "python",
   "pygments_lexer": "ipython3",
   "version": "3.6.6"
  }
 },
 "nbformat": 4,
 "nbformat_minor": 4
}
