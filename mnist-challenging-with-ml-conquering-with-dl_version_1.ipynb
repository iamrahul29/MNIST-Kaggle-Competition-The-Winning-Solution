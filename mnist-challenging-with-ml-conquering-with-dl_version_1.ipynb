{
 "cells": [
  {
   "cell_type": "markdown",
   "execution_count": null,
   "metadata": {},
   "source": [
    "# **The MNIST dataset is often being referred to as the \"Hello World!\" of Machine Learning**\n",
    "\n",
    "**In this kernel I have demonstrated how to step by step design a model to tackle the MNIST challenge**\n",
    "\n",
    "A special regard to Francis Chollet (Author of Keras) for writing an amazing book, \"Deep Learning with Python\".\n",
    "\n",
    "Let us begin!\n",
    "\n",
    "I have used the following techniques which will get you a step by step increment on the test set accuracy\n",
    "\n",
    "**1. Random Forest Algorithm (93.5% on the Test set)**\n",
    "\n",
    "> A limited parameter (max_depth = 20) ensemble of only 20 Decision Trees (default value is 100) which prevents overfitting and provides satisfactory accuracy on the validation set (around 95%) \n",
    "\n",
    "**2. A Simple Convolutional Neural Network (98.5% on the Test set)**\n",
    "\n",
    "> A simple CNN with minimal parameters. No advanced techniques like Batch Normalization, Learning Rate Annealer, or Data Augmentation. The validation accuracy will be around 99.1% (see previous versions of the kernel)\n",
    "\n",
    "**3. CNN with Data Augmentation (99.35% on the Test set)**\n",
    "\n",
    "> Apply Data Augmentation on the CNN along with learning rate annealer and Nadam optimizer. The validation accuracy will be around 99.48% at 20 epochs\n",
    "\n",
    "**4. An ensemble of CNNs (99.67% on the Test set)**\n",
    "\n",
    "> Combine 7 previously designed CNNs to work on random shuffled subsets of training and validation data. The ensemble technique used is Bagging. The validation accuracy achieved is 99.55%. To touch the test set accuracy mark of 99.7% you just have to increase the number of CNNs in the ensemble\n",
    "\n",
    "**5. We can use some regularization techniques to achieve 99.7% which seems to be accepted limit for the competition**\n",
    "\n",
    "> Increase the number of CNNs in the ensemble to 10 and apply regularization techniques to achive 99.7%. One can also aggregate the predictions of 5 different CNN architectures instead of using multiple same CNN implementations.\n",
    "\n",
    "**6. We have used multiple ML and DL algorithms & techniques to continuously increase our test set accuracy. Some more architectures can be experimented with, to touch the golden mark of 99.7%. But the problem is you still would not win the competition. Because some kagglers have been cheating to get a perfect test score of 100%.**\n",
    "\n",
    "**I first read about this in Aurelion Geron's book \"Hands on ML\". The book mentions this article to elaborate on how someone can achive a perfect 100% accuracy on the test set. **\n",
    "\n",
    "https://www.kaggle.com/c/digit-recognizer/discussion/61480\n",
    "\n",
    "> **So let us cheat and hit the bullseye**\n",
    "> **How? **\n",
    "> **Train a model on the entire MNIST dataset (70K images) and then use it to make predictions**\n",
    "> \n",
    "> **A lot of notebooks use an ensemble CNN or simple CNN with the full MNIST dataset for a perfect score.**\n",
    "> \n",
    "> **But wait! If cheating is what you want to do, maybe do it the smart way. Simply use a Decision Tree Algorithm with (max_depth = None). It is in the nature of Decision Trees to overfit the training data.**"
   ]
  },
  {
   "cell_type": "code",
   "execution_count": 1,
   "metadata": {
    "_cell_guid": "b1076dfc-b9ad-4769-8c92-a6c4dae69d19",
    "_uuid": "8f2839f25d086af736a60e9eeb907d3b93b6e0e5"
   },
   "outputs": [
    {
     "name": "stdout",
     "output_type": "stream",
     "text": [
      "/kaggle/input/digit-recognizer/train.csv\n",
      "/kaggle/input/digit-recognizer/test.csv\n",
      "/kaggle/input/digit-recognizer/sample_submission.csv\n"
     ]
    }
   ],
   "source": [
    "# Importing the libraries\n",
    "\n",
    "import numpy as np \n",
    "import matplotlib.pyplot as plt\n",
    "import pandas as pd \n",
    "\n",
    "import tensorflow as tf\n",
    "from tensorflow import keras\n",
    "\n",
    "from sklearn.model_selection import train_test_split\n",
    "\n",
    "from tensorflow.keras.preprocessing.image import ImageDataGenerator\n",
    "from tensorflow.keras.callbacks import LearningRateScheduler,ReduceLROnPlateau\n",
    "\n",
    "import os\n",
    "for dirname, _, filenames in os.walk('/kaggle/input'):\n",
    "    for filename in filenames:\n",
    "        print(os.path.join(dirname, filename))\n",
    "\n"
   ]
  },
  {
   "cell_type": "code",
   "execution_count": 2,
   "metadata": {
    "_cell_guid": "79c7e3d0-c299-4dcb-8224-4455121ee9b0",
    "_uuid": "d629ff2d2480ee46fbb7e2d37f6b5fab8052498a"
   },
   "outputs": [
    {
     "data": {
      "text/html": [
       "<div>\n",
       "<style scoped>\n",
       "    .dataframe tbody tr th:only-of-type {\n",
       "        vertical-align: middle;\n",
       "    }\n",
       "\n",
       "    .dataframe tbody tr th {\n",
       "        vertical-align: top;\n",
       "    }\n",
       "\n",
       "    .dataframe thead th {\n",
       "        text-align: right;\n",
       "    }\n",
       "</style>\n",
       "<table border=\"1\" class=\"dataframe\">\n",
       "  <thead>\n",
       "    <tr style=\"text-align: right;\">\n",
       "      <th></th>\n",
       "      <th>label</th>\n",
       "      <th>pixel0</th>\n",
       "      <th>pixel1</th>\n",
       "      <th>pixel2</th>\n",
       "      <th>pixel3</th>\n",
       "      <th>pixel4</th>\n",
       "      <th>pixel5</th>\n",
       "      <th>pixel6</th>\n",
       "      <th>pixel7</th>\n",
       "      <th>pixel8</th>\n",
       "      <th>...</th>\n",
       "      <th>pixel774</th>\n",
       "      <th>pixel775</th>\n",
       "      <th>pixel776</th>\n",
       "      <th>pixel777</th>\n",
       "      <th>pixel778</th>\n",
       "      <th>pixel779</th>\n",
       "      <th>pixel780</th>\n",
       "      <th>pixel781</th>\n",
       "      <th>pixel782</th>\n",
       "      <th>pixel783</th>\n",
       "    </tr>\n",
       "  </thead>\n",
       "  <tbody>\n",
       "    <tr>\n",
       "      <th>0</th>\n",
       "      <td>1</td>\n",
       "      <td>0</td>\n",
       "      <td>0</td>\n",
       "      <td>0</td>\n",
       "      <td>0</td>\n",
       "      <td>0</td>\n",
       "      <td>0</td>\n",
       "      <td>0</td>\n",
       "      <td>0</td>\n",
       "      <td>0</td>\n",
       "      <td>...</td>\n",
       "      <td>0</td>\n",
       "      <td>0</td>\n",
       "      <td>0</td>\n",
       "      <td>0</td>\n",
       "      <td>0</td>\n",
       "      <td>0</td>\n",
       "      <td>0</td>\n",
       "      <td>0</td>\n",
       "      <td>0</td>\n",
       "      <td>0</td>\n",
       "    </tr>\n",
       "    <tr>\n",
       "      <th>1</th>\n",
       "      <td>0</td>\n",
       "      <td>0</td>\n",
       "      <td>0</td>\n",
       "      <td>0</td>\n",
       "      <td>0</td>\n",
       "      <td>0</td>\n",
       "      <td>0</td>\n",
       "      <td>0</td>\n",
       "      <td>0</td>\n",
       "      <td>0</td>\n",
       "      <td>...</td>\n",
       "      <td>0</td>\n",
       "      <td>0</td>\n",
       "      <td>0</td>\n",
       "      <td>0</td>\n",
       "      <td>0</td>\n",
       "      <td>0</td>\n",
       "      <td>0</td>\n",
       "      <td>0</td>\n",
       "      <td>0</td>\n",
       "      <td>0</td>\n",
       "    </tr>\n",
       "    <tr>\n",
       "      <th>2</th>\n",
       "      <td>1</td>\n",
       "      <td>0</td>\n",
       "      <td>0</td>\n",
       "      <td>0</td>\n",
       "      <td>0</td>\n",
       "      <td>0</td>\n",
       "      <td>0</td>\n",
       "      <td>0</td>\n",
       "      <td>0</td>\n",
       "      <td>0</td>\n",
       "      <td>...</td>\n",
       "      <td>0</td>\n",
       "      <td>0</td>\n",
       "      <td>0</td>\n",
       "      <td>0</td>\n",
       "      <td>0</td>\n",
       "      <td>0</td>\n",
       "      <td>0</td>\n",
       "      <td>0</td>\n",
       "      <td>0</td>\n",
       "      <td>0</td>\n",
       "    </tr>\n",
       "    <tr>\n",
       "      <th>3</th>\n",
       "      <td>4</td>\n",
       "      <td>0</td>\n",
       "      <td>0</td>\n",
       "      <td>0</td>\n",
       "      <td>0</td>\n",
       "      <td>0</td>\n",
       "      <td>0</td>\n",
       "      <td>0</td>\n",
       "      <td>0</td>\n",
       "      <td>0</td>\n",
       "      <td>...</td>\n",
       "      <td>0</td>\n",
       "      <td>0</td>\n",
       "      <td>0</td>\n",
       "      <td>0</td>\n",
       "      <td>0</td>\n",
       "      <td>0</td>\n",
       "      <td>0</td>\n",
       "      <td>0</td>\n",
       "      <td>0</td>\n",
       "      <td>0</td>\n",
       "    </tr>\n",
       "    <tr>\n",
       "      <th>4</th>\n",
       "      <td>0</td>\n",
       "      <td>0</td>\n",
       "      <td>0</td>\n",
       "      <td>0</td>\n",
       "      <td>0</td>\n",
       "      <td>0</td>\n",
       "      <td>0</td>\n",
       "      <td>0</td>\n",
       "      <td>0</td>\n",
       "      <td>0</td>\n",
       "      <td>...</td>\n",
       "      <td>0</td>\n",
       "      <td>0</td>\n",
       "      <td>0</td>\n",
       "      <td>0</td>\n",
       "      <td>0</td>\n",
       "      <td>0</td>\n",
       "      <td>0</td>\n",
       "      <td>0</td>\n",
       "      <td>0</td>\n",
       "      <td>0</td>\n",
       "    </tr>\n",
       "    <tr>\n",
       "      <th>...</th>\n",
       "      <td>...</td>\n",
       "      <td>...</td>\n",
       "      <td>...</td>\n",
       "      <td>...</td>\n",
       "      <td>...</td>\n",
       "      <td>...</td>\n",
       "      <td>...</td>\n",
       "      <td>...</td>\n",
       "      <td>...</td>\n",
       "      <td>...</td>\n",
       "      <td>...</td>\n",
       "      <td>...</td>\n",
       "      <td>...</td>\n",
       "      <td>...</td>\n",
       "      <td>...</td>\n",
       "      <td>...</td>\n",
       "      <td>...</td>\n",
       "      <td>...</td>\n",
       "      <td>...</td>\n",
       "      <td>...</td>\n",
       "      <td>...</td>\n",
       "    </tr>\n",
       "    <tr>\n",
       "      <th>41995</th>\n",
       "      <td>0</td>\n",
       "      <td>0</td>\n",
       "      <td>0</td>\n",
       "      <td>0</td>\n",
       "      <td>0</td>\n",
       "      <td>0</td>\n",
       "      <td>0</td>\n",
       "      <td>0</td>\n",
       "      <td>0</td>\n",
       "      <td>0</td>\n",
       "      <td>...</td>\n",
       "      <td>0</td>\n",
       "      <td>0</td>\n",
       "      <td>0</td>\n",
       "      <td>0</td>\n",
       "      <td>0</td>\n",
       "      <td>0</td>\n",
       "      <td>0</td>\n",
       "      <td>0</td>\n",
       "      <td>0</td>\n",
       "      <td>0</td>\n",
       "    </tr>\n",
       "    <tr>\n",
       "      <th>41996</th>\n",
       "      <td>1</td>\n",
       "      <td>0</td>\n",
       "      <td>0</td>\n",
       "      <td>0</td>\n",
       "      <td>0</td>\n",
       "      <td>0</td>\n",
       "      <td>0</td>\n",
       "      <td>0</td>\n",
       "      <td>0</td>\n",
       "      <td>0</td>\n",
       "      <td>...</td>\n",
       "      <td>0</td>\n",
       "      <td>0</td>\n",
       "      <td>0</td>\n",
       "      <td>0</td>\n",
       "      <td>0</td>\n",
       "      <td>0</td>\n",
       "      <td>0</td>\n",
       "      <td>0</td>\n",
       "      <td>0</td>\n",
       "      <td>0</td>\n",
       "    </tr>\n",
       "    <tr>\n",
       "      <th>41997</th>\n",
       "      <td>7</td>\n",
       "      <td>0</td>\n",
       "      <td>0</td>\n",
       "      <td>0</td>\n",
       "      <td>0</td>\n",
       "      <td>0</td>\n",
       "      <td>0</td>\n",
       "      <td>0</td>\n",
       "      <td>0</td>\n",
       "      <td>0</td>\n",
       "      <td>...</td>\n",
       "      <td>0</td>\n",
       "      <td>0</td>\n",
       "      <td>0</td>\n",
       "      <td>0</td>\n",
       "      <td>0</td>\n",
       "      <td>0</td>\n",
       "      <td>0</td>\n",
       "      <td>0</td>\n",
       "      <td>0</td>\n",
       "      <td>0</td>\n",
       "    </tr>\n",
       "    <tr>\n",
       "      <th>41998</th>\n",
       "      <td>6</td>\n",
       "      <td>0</td>\n",
       "      <td>0</td>\n",
       "      <td>0</td>\n",
       "      <td>0</td>\n",
       "      <td>0</td>\n",
       "      <td>0</td>\n",
       "      <td>0</td>\n",
       "      <td>0</td>\n",
       "      <td>0</td>\n",
       "      <td>...</td>\n",
       "      <td>0</td>\n",
       "      <td>0</td>\n",
       "      <td>0</td>\n",
       "      <td>0</td>\n",
       "      <td>0</td>\n",
       "      <td>0</td>\n",
       "      <td>0</td>\n",
       "      <td>0</td>\n",
       "      <td>0</td>\n",
       "      <td>0</td>\n",
       "    </tr>\n",
       "    <tr>\n",
       "      <th>41999</th>\n",
       "      <td>9</td>\n",
       "      <td>0</td>\n",
       "      <td>0</td>\n",
       "      <td>0</td>\n",
       "      <td>0</td>\n",
       "      <td>0</td>\n",
       "      <td>0</td>\n",
       "      <td>0</td>\n",
       "      <td>0</td>\n",
       "      <td>0</td>\n",
       "      <td>...</td>\n",
       "      <td>0</td>\n",
       "      <td>0</td>\n",
       "      <td>0</td>\n",
       "      <td>0</td>\n",
       "      <td>0</td>\n",
       "      <td>0</td>\n",
       "      <td>0</td>\n",
       "      <td>0</td>\n",
       "      <td>0</td>\n",
       "      <td>0</td>\n",
       "    </tr>\n",
       "  </tbody>\n",
       "</table>\n",
       "<p>42000 rows × 785 columns</p>\n",
       "</div>"
      ],
      "text/plain": [
       "       label  pixel0  pixel1  pixel2  pixel3  pixel4  pixel5  pixel6  pixel7  \\\n",
       "0          1       0       0       0       0       0       0       0       0   \n",
       "1          0       0       0       0       0       0       0       0       0   \n",
       "2          1       0       0       0       0       0       0       0       0   \n",
       "3          4       0       0       0       0       0       0       0       0   \n",
       "4          0       0       0       0       0       0       0       0       0   \n",
       "...      ...     ...     ...     ...     ...     ...     ...     ...     ...   \n",
       "41995      0       0       0       0       0       0       0       0       0   \n",
       "41996      1       0       0       0       0       0       0       0       0   \n",
       "41997      7       0       0       0       0       0       0       0       0   \n",
       "41998      6       0       0       0       0       0       0       0       0   \n",
       "41999      9       0       0       0       0       0       0       0       0   \n",
       "\n",
       "       pixel8  ...  pixel774  pixel775  pixel776  pixel777  pixel778  \\\n",
       "0           0  ...         0         0         0         0         0   \n",
       "1           0  ...         0         0         0         0         0   \n",
       "2           0  ...         0         0         0         0         0   \n",
       "3           0  ...         0         0         0         0         0   \n",
       "4           0  ...         0         0         0         0         0   \n",
       "...       ...  ...       ...       ...       ...       ...       ...   \n",
       "41995       0  ...         0         0         0         0         0   \n",
       "41996       0  ...         0         0         0         0         0   \n",
       "41997       0  ...         0         0         0         0         0   \n",
       "41998       0  ...         0         0         0         0         0   \n",
       "41999       0  ...         0         0         0         0         0   \n",
       "\n",
       "       pixel779  pixel780  pixel781  pixel782  pixel783  \n",
       "0             0         0         0         0         0  \n",
       "1             0         0         0         0         0  \n",
       "2             0         0         0         0         0  \n",
       "3             0         0         0         0         0  \n",
       "4             0         0         0         0         0  \n",
       "...         ...       ...       ...       ...       ...  \n",
       "41995         0         0         0         0         0  \n",
       "41996         0         0         0         0         0  \n",
       "41997         0         0         0         0         0  \n",
       "41998         0         0         0         0         0  \n",
       "41999         0         0         0         0         0  \n",
       "\n",
       "[42000 rows x 785 columns]"
      ]
     },
     "execution_count": 2,
     "metadata": {},
     "output_type": "execute_result"
    }
   ],
   "source": [
    "# Importing the training dataset\n",
    "\n",
    "dataset = pd.read_csv('/kaggle/input/digit-recognizer/train.csv')\n",
    "dataset"
   ]
  },
  {
   "cell_type": "code",
   "execution_count": 3,
   "metadata": {},
   "outputs": [
    {
     "data": {
      "text/plain": [
       "Index(['label', 'pixel0', 'pixel1', 'pixel2', 'pixel3', 'pixel4', 'pixel5',\n",
       "       'pixel6', 'pixel7', 'pixel8',\n",
       "       ...\n",
       "       'pixel774', 'pixel775', 'pixel776', 'pixel777', 'pixel778', 'pixel779',\n",
       "       'pixel780', 'pixel781', 'pixel782', 'pixel783'],\n",
       "      dtype='object', length=785)"
      ]
     },
     "execution_count": 3,
     "metadata": {},
     "output_type": "execute_result"
    }
   ],
   "source": [
    "# Inspecting the dataset\n",
    "\n",
    "dataset.columns"
   ]
  },
  {
   "cell_type": "code",
   "execution_count": 4,
   "metadata": {},
   "outputs": [
    {
     "data": {
      "text/plain": [
       "False"
      ]
     },
     "execution_count": 4,
     "metadata": {},
     "output_type": "execute_result"
    }
   ],
   "source": [
    "# Checking for missing values\n",
    "\n",
    "np.any(dataset.isnull().sum())"
   ]
  },
  {
   "cell_type": "code",
   "execution_count": 5,
   "metadata": {},
   "outputs": [
    {
     "data": {
      "text/plain": [
       "((42000, 784), (42000,), dtype('int64'), dtype('int64'))"
      ]
     },
     "execution_count": 5,
     "metadata": {},
     "output_type": "execute_result"
    }
   ],
   "source": [
    "# Slicing the dataset to separate feature matrix 'X' and the vector of predictions 'y'\n",
    "\n",
    "X = dataset.iloc[:, 1:].values\n",
    "y = dataset.iloc[:, 0].values\n",
    "\n",
    "X.shape, y.shape, X.dtype, y.dtype"
   ]
  },
  {
   "cell_type": "code",
   "execution_count": 6,
   "metadata": {},
   "outputs": [
    {
     "data": {
      "image/png": "[encoded data removed]",
      "text/plain": [
       "<Figure size 432x288 with 1 Axes>"
      ]
     },
     "metadata": {
      "needs_background": "light"
     },
     "output_type": "display_data"
    }
   ],
   "source": [
    "# Visualizing the dataset by reshaping an image into the original format i.e. 28 * 28\n",
    "\n",
    "first_image = X[0]\n",
    "first_image = first_image.reshape((28, 28))\n",
    "\n",
    "plt.imshow(first_image)\n",
    "plt.show()"
   ]
  },
  {
   "cell_type": "code",
   "execution_count": 7,
   "metadata": {},
   "outputs": [
    {
     "data": {
      "image/png": "[encoded data removed]",
      "text/plain": [
       "<Figure size 432x288 with 1 Axes>"
      ]
     },
     "metadata": {
      "needs_background": "light"
     },
     "output_type": "display_data"
    }
   ],
   "source": [
    "# Grayscaling the image, dropping the axis and printing the label\n",
    "\n",
    "plt.imshow(first_image, \"binary\")\n",
    "plt.title('label : {}'.format(y[0]))\n",
    "plt.axis('off')\n",
    "plt.show()"
   ]
  },
  {
   "cell_type": "code",
   "execution_count": 8,
   "metadata": {},
   "outputs": [
    {
     "name": "stdout",
     "output_type": "stream",
     "text": [
      "Random Indexes :  [26952 29899 16989 41600 41524   947 36864 41305 10630 30225  2820 18968\n",
      " 17025 17984  3510 39549 35483 31528 16777 24976 31831 28834 10583 28806\n",
      " 32467]\n",
      "\n",
      " Shape :  (25, 784)\n"
     ]
    },
    {
     "data": {
      "image/png": "[encoded data removed]",
      "text/plain": [
       "<Figure size 1152x720 with 25 Axes>"
      ]
     },
     "metadata": {},
     "output_type": "display_data"
    }
   ],
   "source": [
    "# Plotting multiple randomly chosen images from the dataset for insights\n",
    "\n",
    "random_indexes = np.random.choice(range(len(X)), 25)\n",
    "print(\"Random Indexes : \", random_indexes)\n",
    "\n",
    "X_random = X[random_indexes]\n",
    "y_random = y[random_indexes]\n",
    "\n",
    "print(\"\\n Shape : \", X_random.shape)\n",
    "\n",
    "plt.figure(figsize = (16, 10))\n",
    "for i in range(25):\n",
    "    image = X_random[i]\n",
    "    image = image.reshape((28, 28))\n",
    "    plt.subplot(5, 5, i+1)\n",
    "    plt.xticks([])\n",
    "    plt.yticks([])\n",
    "    plt.imshow(image, \"binary\")\n",
    "    plt.title('label : {}'.format(y_random[i]))\n",
    "plt.show()"
   ]
  },
  {
   "cell_type": "markdown",
   "execution_count": null,
   "metadata": {},
   "source": [
    "**PCA is a popular dimensionality reduction technique which will significantly bring down the dimensions from 784 to 154 preserving around 95% variance. The technique is demonstrated but not used in the final results.**"
   ]
  },
  {
   "cell_type": "code",
   "execution_count": 9,
   "metadata": {},
   "outputs": [
    {
     "data": {
      "text/plain": [
       "154"
      ]
     },
     "execution_count": 9,
     "metadata": {},
     "output_type": "execute_result"
    }
   ],
   "source": [
    "# Applying PCA to reduce dimensionality\n",
    "\n",
    "from sklearn.decomposition import PCA\n",
    "pca = PCA()\n",
    "pca.fit(X)\n",
    "cumsum = np.cumsum(pca.explained_variance_ratio_)\n",
    "d = np.argmax(cumsum >= 0.95) + 1\n",
    "d"
   ]
  },
  {
   "cell_type": "code",
   "execution_count": 10,
   "metadata": {},
   "outputs": [
    {
     "data": {
      "text/plain": [
       "(42000, 154)"
      ]
     },
     "execution_count": 10,
     "metadata": {},
     "output_type": "execute_result"
    }
   ],
   "source": [
    "pca = PCA(n_components = 154)\n",
    "X_reduced = pca.fit_transform(X)\n",
    "X_reduced.shape"
   ]
  },
  {
   "cell_type": "code",
   "execution_count": 11,
   "metadata": {},
   "outputs": [],
   "source": [
    "# Applying T-SNE Algorithm to check arrangements in the dataset\n",
    "\n",
    "m = 5000\n",
    "idx = np.random.permutation(len(X))[:m]\n",
    "\n",
    "X_tsne = X[idx]\n",
    "y_tsne = y[idx]\n",
    "\n",
    "from sklearn.manifold import TSNE\n",
    "tsne = TSNE(n_components = 2)\n",
    "X_2d = tsne.fit_transform(X_tsne)"
   ]
  },
  {
   "cell_type": "code",
   "execution_count": 12,
   "metadata": {},
   "outputs": [
    {
     "data": {
      "image/png": "[encoded data removed]",
      "text/plain": [
       "<Figure size 1152x720 with 2 Axes>"
      ]
     },
     "metadata": {
      "needs_background": "light"
     },
     "output_type": "display_data"
    }
   ],
   "source": [
    "plt.figure(figsize = (16, 10))\n",
    "plt.scatter(X_2d[:, 0], X_2d[:, 1], c = y_tsne, cmap = 'jet')\n",
    "plt.axis('off')\n",
    "plt.colorbar()\n",
    "plt.show()"
   ]
  },
  {
   "cell_type": "code",
   "execution_count": 13,
   "metadata": {},
   "outputs": [
    {
     "data": {
      "text/plain": [
       "array([[0., 0., 0., ..., 0., 0., 0.],\n",
       "       [0., 0., 0., ..., 0., 0., 0.],\n",
       "       [0., 0., 0., ..., 0., 0., 0.],\n",
       "       ...,\n",
       "       [0., 0., 0., ..., 0., 0., 0.],\n",
       "       [0., 0., 0., ..., 0., 0., 0.],\n",
       "       [0., 0., 0., ..., 0., 0., 0.]])"
      ]
     },
     "execution_count": 13,
     "metadata": {},
     "output_type": "execute_result"
    }
   ],
   "source": [
    "# Applying feature scaling for faster convergence\n",
    "\n",
    "from sklearn.preprocessing import StandardScaler\n",
    "scaler = StandardScaler()\n",
    "X = scaler.fit_transform(X)\n",
    "X"
   ]
  },
  {
   "cell_type": "code",
   "execution_count": 14,
   "metadata": {},
   "outputs": [
    {
     "name": "stdout",
     "output_type": "stream",
     "text": [
      "CPU times: user 243 ms, sys: 4.01 ms, total: 247 ms\n",
      "Wall time: 135 ms\n"
     ]
    },
    {
     "data": {
      "text/plain": [
       "0.8882619047619048"
      ]
     },
     "execution_count": 14,
     "metadata": {},
     "output_type": "execute_result"
    }
   ],
   "source": [
    "# Applying Logistic Regression\n",
    "\n",
    "from sklearn.linear_model import LogisticRegression\n",
    "log_reg = LogisticRegression(solver = 'saga', tol = 0.1, penalty = 'l1')\n",
    "log_reg.fit(X, y)\n",
    "\n",
    "%time log_reg.score(X, y)"
   ]
  },
  {
   "cell_type": "code",
   "execution_count": 15,
   "metadata": {},
   "outputs": [
    {
     "name": "stdout",
     "output_type": "stream",
     "text": [
      "CPU times: user 1.2 s, sys: 931 ms, total: 2.13 s\n",
      "Wall time: 2.13 s\n"
     ]
    },
    {
     "data": {
      "text/plain": [
       "0.5316904761904762"
      ]
     },
     "execution_count": 15,
     "metadata": {},
     "output_type": "execute_result"
    }
   ],
   "source": [
    "# Applying Naive Bayes Algorithm\n",
    "\n",
    "from sklearn.naive_bayes import GaussianNB\n",
    "naive_bayes = GaussianNB()\n",
    "naive_bayes.fit(X, y)\n",
    "\n",
    "%time naive_bayes.score(X, y)"
   ]
  },
  {
   "cell_type": "code",
   "execution_count": 16,
   "metadata": {},
   "outputs": [
    {
     "name": "stdout",
     "output_type": "stream",
     "text": [
      "CPU times: user 71.9 ms, sys: 25 ms, total: 96.9 ms\n",
      "Wall time: 97 ms\n"
     ]
    },
    {
     "data": {
      "text/plain": [
       "1.0"
      ]
     },
     "execution_count": 16,
     "metadata": {},
     "output_type": "execute_result"
    }
   ],
   "source": [
    "# Applying Decision Tree Algorithm\n",
    "\n",
    "from sklearn.tree import DecisionTreeClassifier\n",
    "dtf = DecisionTreeClassifier()\n",
    "dtf.fit(X, y)\n",
    "\n",
    "%time dtf.score(X, y)"
   ]
  },
  {
   "cell_type": "code",
   "execution_count": 17,
   "metadata": {},
   "outputs": [
    {
     "data": {
      "text/plain": [
       "array([0.85583333, 0.8525    , 0.85654762, 0.85166667, 0.85666667])"
      ]
     },
     "execution_count": 17,
     "metadata": {},
     "output_type": "execute_result"
    }
   ],
   "source": [
    "# Using Cross Validation with Decision Tree to avoid overfitting\n",
    "\n",
    "from sklearn.model_selection import cross_val_score\n",
    "cross_val_score(dtf, X, y, cv = 5)"
   ]
  },
  {
   "cell_type": "code",
   "execution_count": 18,
   "metadata": {},
   "outputs": [
    {
     "name": "stdout",
     "output_type": "stream",
     "text": [
      "CPU times: user 341 ms, sys: 24 ms, total: 365 ms\n",
      "Wall time: 365 ms\n"
     ]
    },
    {
     "data": {
      "text/plain": [
       "0.9993809523809524"
      ]
     },
     "execution_count": 18,
     "metadata": {},
     "output_type": "execute_result"
    }
   ],
   "source": [
    "# Applying Ensemble techniques using a Random Forest Classifier\n",
    "\n",
    "from sklearn.ensemble import RandomForestClassifier\n",
    "rf = RandomForestClassifier(n_estimators = 20, max_depth = 20)\n",
    "rf.fit(X, y)\n",
    "\n",
    "%time rf.score(X, y)"
   ]
  },
  {
   "cell_type": "code",
   "execution_count": 19,
   "metadata": {},
   "outputs": [
    {
     "data": {
      "text/plain": [
       "array([0.94869048, 0.95285714, 0.95071429, 0.95333333, 0.95559524])"
      ]
     },
     "execution_count": 19,
     "metadata": {},
     "output_type": "execute_result"
    }
   ],
   "source": [
    "# Applying Cross Validation on the Random Forest estimator to avoid overfitting\n",
    "\n",
    "cross_val_score(rf, X, y, cv = 5)"
   ]
  },
  {
   "cell_type": "code",
   "execution_count": 20,
   "metadata": {},
   "outputs": [
    {
     "name": "stdout",
     "output_type": "stream",
     "text": [
      "CPU times: user 211 ms, sys: 0 ns, total: 211 ms\n",
      "Wall time: 211 ms\n"
     ]
    },
    {
     "data": {
      "text/plain": [
       "0.9998095238095238"
      ]
     },
     "execution_count": 20,
     "metadata": {},
     "output_type": "execute_result"
    }
   ],
   "source": [
    "# Applying Ensemble techniques using a Random Forest Classifier on the Reduced Dataset\n",
    "\n",
    "from sklearn.ensemble import RandomForestClassifier\n",
    "rf1 = RandomForestClassifier(n_estimators = 20, max_depth = 20)\n",
    "rf1.fit(X_reduced, y)\n",
    "\n",
    "%time rf1.score(X_reduced, y)"
   ]
  },
  {
   "cell_type": "code",
   "execution_count": 21,
   "metadata": {},
   "outputs": [
    {
     "data": {
      "text/plain": [
       "array([0.91107143, 0.91345238, 0.90785714, 0.90845238, 0.91880952])"
      ]
     },
     "execution_count": 21,
     "metadata": {},
     "output_type": "execute_result"
    }
   ],
   "source": [
    "# Applying Cross Validation on the Random Forest estimator to avoid overfitting\n",
    "\n",
    "cross_val_score(rf1, X_reduced, y, cv = 5)"
   ]
  },
  {
   "cell_type": "code",
   "execution_count": 22,
   "metadata": {},
   "outputs": [
    {
     "data": {
      "text/plain": [
       "array([1, 0, 1, ..., 7, 6, 9])"
      ]
     },
     "execution_count": 22,
     "metadata": {},
     "output_type": "execute_result"
    }
   ],
   "source": [
    "# Generating predictions on the training set\n",
    "\n",
    "from sklearn.model_selection import cross_val_predict\n",
    "y_pred = cross_val_predict(rf, X, y, cv = 5)\n",
    "y_pred"
   ]
  },
  {
   "cell_type": "code",
   "execution_count": 23,
   "metadata": {},
   "outputs": [
    {
     "name": "stdout",
     "output_type": "stream",
     "text": [
      "Accuracy :  0.9527857142857142\n",
      "\n",
      "Precision :  0.9527857142857142\n",
      "\n",
      "Recall :  0.9527857142857142\n",
      "\n",
      "F1 Score :  0.9527857142857142\n",
      "\n",
      "Confusion Matrix \n",
      "\n",
      " [[4061    0   10    3    6    7   14    2   25    4]\n",
      " [   1 4604   21   15    7    7    8    9    9    3]\n",
      " [  20   10 3986   23   25   12   19   43   31    8]\n",
      " [  13    6   91 4040    7   75    5   28   57   29]\n",
      " [   7   10   10    3 3897    2   21    8   16   98]\n",
      " [  20    9    9   84   16 3562   39    5   31   20]\n",
      " [  30    7    6    1   10   29 4036    0   18    0]\n",
      " [   7   23   68   12   35    2    0 4175   13   66]\n",
      " [  14   26   35   70   32   56   22   12 3755   41]\n",
      " [  21    8   11   57   77   22    3   53   35 3901]]\n"
     ]
    }
   ],
   "source": [
    "# Checking the Precision, Recall, F1 Score and plotting the confusion matrix\n",
    "\n",
    "from sklearn.metrics import precision_score, recall_score, f1_score, confusion_matrix, accuracy_score\n",
    "\n",
    "print('Accuracy : ', accuracy_score(y, y_pred))\n",
    "print('\\nPrecision : ', precision_score(y, y_pred, average = \"micro\"))\n",
    "print('\\nRecall : ', recall_score(y, y_pred, average = \"micro\"))\n",
    "print('\\nF1 Score : ', f1_score(y, y_pred, average = \"micro\"))\n",
    "print('\\nConfusion Matrix \\n\\n', confusion_matrix(y, y_pred))"
   ]
  },
  {
   "cell_type": "code",
   "execution_count": 24,
   "metadata": {},
   "outputs": [
    {
     "data": {
      "text/html": [
       "<div>\n",
       "<style scoped>\n",
       "    .dataframe tbody tr th:only-of-type {\n",
       "        vertical-align: middle;\n",
       "    }\n",
       "\n",
       "    .dataframe tbody tr th {\n",
       "        vertical-align: top;\n",
       "    }\n",
       "\n",
       "    .dataframe thead th {\n",
       "        text-align: right;\n",
       "    }\n",
       "</style>\n",
       "<table border=\"1\" class=\"dataframe\">\n",
       "  <thead>\n",
       "    <tr style=\"text-align: right;\">\n",
       "      <th></th>\n",
       "      <th>pixel0</th>\n",
       "      <th>pixel1</th>\n",
       "      <th>pixel2</th>\n",
       "      <th>pixel3</th>\n",
       "      <th>pixel4</th>\n",
       "      <th>pixel5</th>\n",
       "      <th>pixel6</th>\n",
       "      <th>pixel7</th>\n",
       "      <th>pixel8</th>\n",
       "      <th>pixel9</th>\n",
       "      <th>...</th>\n",
       "      <th>pixel774</th>\n",
       "      <th>pixel775</th>\n",
       "      <th>pixel776</th>\n",
       "      <th>pixel777</th>\n",
       "      <th>pixel778</th>\n",
       "      <th>pixel779</th>\n",
       "      <th>pixel780</th>\n",
       "      <th>pixel781</th>\n",
       "      <th>pixel782</th>\n",
       "      <th>pixel783</th>\n",
       "    </tr>\n",
       "  </thead>\n",
       "  <tbody>\n",
       "    <tr>\n",
       "      <th>0</th>\n",
       "      <td>0</td>\n",
       "      <td>0</td>\n",
       "      <td>0</td>\n",
       "      <td>0</td>\n",
       "      <td>0</td>\n",
       "      <td>0</td>\n",
       "      <td>0</td>\n",
       "      <td>0</td>\n",
       "      <td>0</td>\n",
       "      <td>0</td>\n",
       "      <td>...</td>\n",
       "      <td>0</td>\n",
       "      <td>0</td>\n",
       "      <td>0</td>\n",
       "      <td>0</td>\n",
       "      <td>0</td>\n",
       "      <td>0</td>\n",
       "      <td>0</td>\n",
       "      <td>0</td>\n",
       "      <td>0</td>\n",
       "      <td>0</td>\n",
       "    </tr>\n",
       "    <tr>\n",
       "      <th>1</th>\n",
       "      <td>0</td>\n",
       "      <td>0</td>\n",
       "      <td>0</td>\n",
       "      <td>0</td>\n",
       "      <td>0</td>\n",
       "      <td>0</td>\n",
       "      <td>0</td>\n",
       "      <td>0</td>\n",
       "      <td>0</td>\n",
       "      <td>0</td>\n",
       "      <td>...</td>\n",
       "      <td>0</td>\n",
       "      <td>0</td>\n",
       "      <td>0</td>\n",
       "      <td>0</td>\n",
       "      <td>0</td>\n",
       "      <td>0</td>\n",
       "      <td>0</td>\n",
       "      <td>0</td>\n",
       "      <td>0</td>\n",
       "      <td>0</td>\n",
       "    </tr>\n",
       "    <tr>\n",
       "      <th>2</th>\n",
       "      <td>0</td>\n",
       "      <td>0</td>\n",
       "      <td>0</td>\n",
       "      <td>0</td>\n",
       "      <td>0</td>\n",
       "      <td>0</td>\n",
       "      <td>0</td>\n",
       "      <td>0</td>\n",
       "      <td>0</td>\n",
       "      <td>0</td>\n",
       "      <td>...</td>\n",
       "      <td>0</td>\n",
       "      <td>0</td>\n",
       "      <td>0</td>\n",
       "      <td>0</td>\n",
       "      <td>0</td>\n",
       "      <td>0</td>\n",
       "      <td>0</td>\n",
       "      <td>0</td>\n",
       "      <td>0</td>\n",
       "      <td>0</td>\n",
       "    </tr>\n",
       "    <tr>\n",
       "      <th>3</th>\n",
       "      <td>0</td>\n",
       "      <td>0</td>\n",
       "      <td>0</td>\n",
       "      <td>0</td>\n",
       "      <td>0</td>\n",
       "      <td>0</td>\n",
       "      <td>0</td>\n",
       "      <td>0</td>\n",
       "      <td>0</td>\n",
       "      <td>0</td>\n",
       "      <td>...</td>\n",
       "      <td>0</td>\n",
       "      <td>0</td>\n",
       "      <td>0</td>\n",
       "      <td>0</td>\n",
       "      <td>0</td>\n",
       "      <td>0</td>\n",
       "      <td>0</td>\n",
       "      <td>0</td>\n",
       "      <td>0</td>\n",
       "      <td>0</td>\n",
       "    </tr>\n",
       "    <tr>\n",
       "      <th>4</th>\n",
       "      <td>0</td>\n",
       "      <td>0</td>\n",
       "      <td>0</td>\n",
       "      <td>0</td>\n",
       "      <td>0</td>\n",
       "      <td>0</td>\n",
       "      <td>0</td>\n",
       "      <td>0</td>\n",
       "      <td>0</td>\n",
       "      <td>0</td>\n",
       "      <td>...</td>\n",
       "      <td>0</td>\n",
       "      <td>0</td>\n",
       "      <td>0</td>\n",
       "      <td>0</td>\n",
       "      <td>0</td>\n",
       "      <td>0</td>\n",
       "      <td>0</td>\n",
       "      <td>0</td>\n",
       "      <td>0</td>\n",
       "      <td>0</td>\n",
       "    </tr>\n",
       "    <tr>\n",
       "      <th>...</th>\n",
       "      <td>...</td>\n",
       "      <td>...</td>\n",
       "      <td>...</td>\n",
       "      <td>...</td>\n",
       "      <td>...</td>\n",
       "      <td>...</td>\n",
       "      <td>...</td>\n",
       "      <td>...</td>\n",
       "      <td>...</td>\n",
       "      <td>...</td>\n",
       "      <td>...</td>\n",
       "      <td>...</td>\n",
       "      <td>...</td>\n",
       "      <td>...</td>\n",
       "      <td>...</td>\n",
       "      <td>...</td>\n",
       "      <td>...</td>\n",
       "      <td>...</td>\n",
       "      <td>...</td>\n",
       "      <td>...</td>\n",
       "      <td>...</td>\n",
       "    </tr>\n",
       "    <tr>\n",
       "      <th>27995</th>\n",
       "      <td>0</td>\n",
       "      <td>0</td>\n",
       "      <td>0</td>\n",
       "      <td>0</td>\n",
       "      <td>0</td>\n",
       "      <td>0</td>\n",
       "      <td>0</td>\n",
       "      <td>0</td>\n",
       "      <td>0</td>\n",
       "      <td>0</td>\n",
       "      <td>...</td>\n",
       "      <td>0</td>\n",
       "      <td>0</td>\n",
       "      <td>0</td>\n",
       "      <td>0</td>\n",
       "      <td>0</td>\n",
       "      <td>0</td>\n",
       "      <td>0</td>\n",
       "      <td>0</td>\n",
       "      <td>0</td>\n",
       "      <td>0</td>\n",
       "    </tr>\n",
       "    <tr>\n",
       "      <th>27996</th>\n",
       "      <td>0</td>\n",
       "      <td>0</td>\n",
       "      <td>0</td>\n",
       "      <td>0</td>\n",
       "      <td>0</td>\n",
       "      <td>0</td>\n",
       "      <td>0</td>\n",
       "      <td>0</td>\n",
       "      <td>0</td>\n",
       "      <td>0</td>\n",
       "      <td>...</td>\n",
       "      <td>0</td>\n",
       "      <td>0</td>\n",
       "      <td>0</td>\n",
       "      <td>0</td>\n",
       "      <td>0</td>\n",
       "      <td>0</td>\n",
       "      <td>0</td>\n",
       "      <td>0</td>\n",
       "      <td>0</td>\n",
       "      <td>0</td>\n",
       "    </tr>\n",
       "    <tr>\n",
       "      <th>27997</th>\n",
       "      <td>0</td>\n",
       "      <td>0</td>\n",
       "      <td>0</td>\n",
       "      <td>0</td>\n",
       "      <td>0</td>\n",
       "      <td>0</td>\n",
       "      <td>0</td>\n",
       "      <td>0</td>\n",
       "      <td>0</td>\n",
       "      <td>0</td>\n",
       "      <td>...</td>\n",
       "      <td>0</td>\n",
       "      <td>0</td>\n",
       "      <td>0</td>\n",
       "      <td>0</td>\n",
       "      <td>0</td>\n",
       "      <td>0</td>\n",
       "      <td>0</td>\n",
       "      <td>0</td>\n",
       "      <td>0</td>\n",
       "      <td>0</td>\n",
       "    </tr>\n",
       "    <tr>\n",
       "      <th>27998</th>\n",
       "      <td>0</td>\n",
       "      <td>0</td>\n",
       "      <td>0</td>\n",
       "      <td>0</td>\n",
       "      <td>0</td>\n",
       "      <td>0</td>\n",
       "      <td>0</td>\n",
       "      <td>0</td>\n",
       "      <td>0</td>\n",
       "      <td>0</td>\n",
       "      <td>...</td>\n",
       "      <td>0</td>\n",
       "      <td>0</td>\n",
       "      <td>0</td>\n",
       "      <td>0</td>\n",
       "      <td>0</td>\n",
       "      <td>0</td>\n",
       "      <td>0</td>\n",
       "      <td>0</td>\n",
       "      <td>0</td>\n",
       "      <td>0</td>\n",
       "    </tr>\n",
       "    <tr>\n",
       "      <th>27999</th>\n",
       "      <td>0</td>\n",
       "      <td>0</td>\n",
       "      <td>0</td>\n",
       "      <td>0</td>\n",
       "      <td>0</td>\n",
       "      <td>0</td>\n",
       "      <td>0</td>\n",
       "      <td>0</td>\n",
       "      <td>0</td>\n",
       "      <td>0</td>\n",
       "      <td>...</td>\n",
       "      <td>0</td>\n",
       "      <td>0</td>\n",
       "      <td>0</td>\n",
       "      <td>0</td>\n",
       "      <td>0</td>\n",
       "      <td>0</td>\n",
       "      <td>0</td>\n",
       "      <td>0</td>\n",
       "      <td>0</td>\n",
       "      <td>0</td>\n",
       "    </tr>\n",
       "  </tbody>\n",
       "</table>\n",
       "<p>28000 rows × 784 columns</p>\n",
       "</div>"
      ],
      "text/plain": [
       "       pixel0  pixel1  pixel2  pixel3  pixel4  pixel5  pixel6  pixel7  pixel8  \\\n",
       "0           0       0       0       0       0       0       0       0       0   \n",
       "1           0       0       0       0       0       0       0       0       0   \n",
       "2           0       0       0       0       0       0       0       0       0   \n",
       "3           0       0       0       0       0       0       0       0       0   \n",
       "4           0       0       0       0       0       0       0       0       0   \n",
       "...       ...     ...     ...     ...     ...     ...     ...     ...     ...   \n",
       "27995       0       0       0       0       0       0       0       0       0   \n",
       "27996       0       0       0       0       0       0       0       0       0   \n",
       "27997       0       0       0       0       0       0       0       0       0   \n",
       "27998       0       0       0       0       0       0       0       0       0   \n",
       "27999       0       0       0       0       0       0       0       0       0   \n",
       "\n",
       "       pixel9  ...  pixel774  pixel775  pixel776  pixel777  pixel778  \\\n",
       "0           0  ...         0         0         0         0         0   \n",
       "1           0  ...         0         0         0         0         0   \n",
       "2           0  ...         0         0         0         0         0   \n",
       "3           0  ...         0         0         0         0         0   \n",
       "4           0  ...         0         0         0         0         0   \n",
       "...       ...  ...       ...       ...       ...       ...       ...   \n",
       "27995       0  ...         0         0         0         0         0   \n",
       "27996       0  ...         0         0         0         0         0   \n",
       "27997       0  ...         0         0         0         0         0   \n",
       "27998       0  ...         0         0         0         0         0   \n",
       "27999       0  ...         0         0         0         0         0   \n",
       "\n",
       "       pixel779  pixel780  pixel781  pixel782  pixel783  \n",
       "0             0         0         0         0         0  \n",
       "1             0         0         0         0         0  \n",
       "2             0         0         0         0         0  \n",
       "3             0         0         0         0         0  \n",
       "4             0         0         0         0         0  \n",
       "...         ...       ...       ...       ...       ...  \n",
       "27995         0         0         0         0         0  \n",
       "27996         0         0         0         0         0  \n",
       "27997         0         0         0         0         0  \n",
       "27998         0         0         0         0         0  \n",
       "27999         0         0         0         0         0  \n",
       "\n",
       "[28000 rows x 784 columns]"
      ]
     },
     "execution_count": 24,
     "metadata": {},
     "output_type": "execute_result"
    }
   ],
   "source": [
    "# Accessing the test dataset\n",
    "\n",
    "test_data = pd.read_csv('/kaggle/input/digit-recognizer/test.csv')\n",
    "test_data"
   ]
  },
  {
   "cell_type": "code",
   "execution_count": 25,
   "metadata": {},
   "outputs": [
    {
     "data": {
      "text/plain": [
       "(28000, 784)"
      ]
     },
     "execution_count": 25,
     "metadata": {},
     "output_type": "execute_result"
    }
   ],
   "source": [
    "# Importing the test set\n",
    "\n",
    "X_test = test_data.values\n",
    "X_test.shape"
   ]
  },
  {
   "cell_type": "code",
   "execution_count": 26,
   "metadata": {},
   "outputs": [
    {
     "data": {
      "text/plain": [
       "array([[0., 0., 0., ..., 0., 0., 0.],\n",
       "       [0., 0., 0., ..., 0., 0., 0.],\n",
       "       [0., 0., 0., ..., 0., 0., 0.],\n",
       "       ...,\n",
       "       [0., 0., 0., ..., 0., 0., 0.],\n",
       "       [0., 0., 0., ..., 0., 0., 0.],\n",
       "       [0., 0., 0., ..., 0., 0., 0.]])"
      ]
     },
     "execution_count": 26,
     "metadata": {},
     "output_type": "execute_result"
    }
   ],
   "source": [
    "# Scaling the test set\n",
    "\n",
    "X_test_scaled = scaler.fit_transform(X_test)\n",
    "X_test_scaled"
   ]
  },
  {
   "cell_type": "code",
   "execution_count": 27,
   "metadata": {},
   "outputs": [
    {
     "data": {
      "text/plain": [
       "array([2, 0, 9, ..., 3, 9, 2])"
      ]
     },
     "execution_count": 27,
     "metadata": {},
     "output_type": "execute_result"
    }
   ],
   "source": [
    "# Generating the predictions on the test set\n",
    "\n",
    "predictions = rf.predict(X_test_scaled)\n",
    "predictions"
   ]
  },
  {
   "cell_type": "code",
   "execution_count": 28,
   "metadata": {},
   "outputs": [
    {
     "data": {
      "text/html": [
       "<div>\n",
       "<style scoped>\n",
       "    .dataframe tbody tr th:only-of-type {\n",
       "        vertical-align: middle;\n",
       "    }\n",
       "\n",
       "    .dataframe tbody tr th {\n",
       "        vertical-align: top;\n",
       "    }\n",
       "\n",
       "    .dataframe thead th {\n",
       "        text-align: right;\n",
       "    }\n",
       "</style>\n",
       "<table border=\"1\" class=\"dataframe\">\n",
       "  <thead>\n",
       "    <tr style=\"text-align: right;\">\n",
       "      <th></th>\n",
       "      <th>ImageId</th>\n",
       "      <th>Label</th>\n",
       "    </tr>\n",
       "  </thead>\n",
       "  <tbody>\n",
       "    <tr>\n",
       "      <th>0</th>\n",
       "      <td>1</td>\n",
       "      <td>2</td>\n",
       "    </tr>\n",
       "    <tr>\n",
       "      <th>1</th>\n",
       "      <td>2</td>\n",
       "      <td>0</td>\n",
       "    </tr>\n",
       "    <tr>\n",
       "      <th>2</th>\n",
       "      <td>3</td>\n",
       "      <td>9</td>\n",
       "    </tr>\n",
       "    <tr>\n",
       "      <th>3</th>\n",
       "      <td>4</td>\n",
       "      <td>9</td>\n",
       "    </tr>\n",
       "    <tr>\n",
       "      <th>4</th>\n",
       "      <td>5</td>\n",
       "      <td>2</td>\n",
       "    </tr>\n",
       "    <tr>\n",
       "      <th>...</th>\n",
       "      <td>...</td>\n",
       "      <td>...</td>\n",
       "    </tr>\n",
       "    <tr>\n",
       "      <th>27995</th>\n",
       "      <td>27996</td>\n",
       "      <td>9</td>\n",
       "    </tr>\n",
       "    <tr>\n",
       "      <th>27996</th>\n",
       "      <td>27997</td>\n",
       "      <td>7</td>\n",
       "    </tr>\n",
       "    <tr>\n",
       "      <th>27997</th>\n",
       "      <td>27998</td>\n",
       "      <td>3</td>\n",
       "    </tr>\n",
       "    <tr>\n",
       "      <th>27998</th>\n",
       "      <td>27999</td>\n",
       "      <td>9</td>\n",
       "    </tr>\n",
       "    <tr>\n",
       "      <th>27999</th>\n",
       "      <td>28000</td>\n",
       "      <td>2</td>\n",
       "    </tr>\n",
       "  </tbody>\n",
       "</table>\n",
       "<p>28000 rows × 2 columns</p>\n",
       "</div>"
      ],
      "text/plain": [
       "       ImageId  Label\n",
       "0            1      2\n",
       "1            2      0\n",
       "2            3      9\n",
       "3            4      9\n",
       "4            5      2\n",
       "...        ...    ...\n",
       "27995    27996      9\n",
       "27996    27997      7\n",
       "27997    27998      3\n",
       "27998    27999      9\n",
       "27999    28000      2\n",
       "\n",
       "[28000 rows x 2 columns]"
      ]
     },
     "execution_count": 28,
     "metadata": {},
     "output_type": "execute_result"
    }
   ],
   "source": [
    "# Saving the predictions in a dataframe\n",
    "\n",
    "pred_df = pd.DataFrame(columns = ['ImageId', 'Label'])\n",
    "pred_df['ImageId'] = np.arange(1, 28001)\n",
    "pred_df['Label'] = predictions\n",
    "pred_df"
   ]
  },
  {
   "cell_type": "code",
   "execution_count": 29,
   "metadata": {},
   "outputs": [],
   "source": [
    "# Writing the predictions in a csv file\n",
    "\n",
    "pred_df.to_csv('ml_submission.csv', index = False)"
   ]
  },
  {
   "cell_type": "markdown",
   "execution_count": null,
   "metadata": {},
   "source": [
    "The ML Algorithm will reach around 94% accuracy on the test set which is a good milestone to start\n",
    "Now we will apply a Convolutional Neural Network (CNN) to increase the validation accuracy and perform \n",
    "even better on the test set"
   ]
  },
  {
   "cell_type": "code",
   "execution_count": 30,
   "metadata": {},
   "outputs": [
    {
     "data": {
      "text/plain": [
       "((37800, 784), (4200, 784), (37800,), (4200,))"
      ]
     },
     "execution_count": 30,
     "metadata": {},
     "output_type": "execute_result"
    }
   ],
   "source": [
    "# Splitting the dataset into training set and validation set\n",
    "\n",
    "X_train, X_valid, y_train, y_valid = train_test_split(X, y, test_size = 0.1)\n",
    "X_train.shape, X_valid.shape, y_train.shape, y_valid.shape"
   ]
  },
  {
   "cell_type": "code",
   "execution_count": 31,
   "metadata": {},
   "outputs": [
    {
     "data": {
      "text/plain": [
       "((37800, 28, 28, 1), (4200, 28, 28, 1))"
      ]
     },
     "execution_count": 31,
     "metadata": {},
     "output_type": "execute_result"
    }
   ],
   "source": [
    "# Reshaping the data for Image Generator (Rank = 4)\n",
    "\n",
    "X_train = X_train.reshape((37800, 28, 28, 1))\n",
    "X_valid = X_valid.reshape((4200, 28, 28, 1))\n",
    "X_train.shape, X_valid.shape"
   ]
  },
  {
   "cell_type": "code",
   "execution_count": 32,
   "metadata": {},
   "outputs": [],
   "source": [
    "# Applying Data Augmentation\n",
    "\n",
    "datagen = ImageDataGenerator(rotation_range=15,  zoom_range = 0.1,  width_shift_range=0.1,  height_shift_range=0.1)\n",
    "datagen.fit(X_train)"
   ]
  },
  {
   "cell_type": "code",
   "execution_count": 33,
   "metadata": {},
   "outputs": [],
   "source": [
    "# Defining the model architecture\n",
    "\n",
    "model = keras.models.Sequential([\n",
    "    keras.layers.Conv2D(32, kernel_size = 3, activation = 'relu', padding = 'same', input_shape = [28, 28, 1]),\n",
    "    keras.layers.Conv2D(64, kernel_size = 3, activation = 'relu', padding = 'same'),\n",
    "    keras.layers.MaxPool2D(),\n",
    "    keras.layers.Conv2D(32, kernel_size = 3, activation = 'relu', padding = 'same'),\n",
    "    keras.layers.Conv2D(64, kernel_size = 3, activation = 'relu', padding = 'same'),\n",
    "    keras.layers.MaxPool2D(),\n",
    "    keras.layers.Flatten(),\n",
    "    keras.layers.Dropout(0.25),\n",
    "    keras.layers.Dense(128, activation = 'relu'),\n",
    "    keras.layers.Dropout(0.5),\n",
    "    keras.layers.Dense(10, activation = 'softmax')\n",
    "])\n",
    "\n",
    "model.compile(loss = 'sparse_categorical_crossentropy', optimizer = 'nadam', metrics = ['accuracy'])"
   ]
  },
  {
   "cell_type": "code",
   "execution_count": 34,
   "metadata": {},
   "outputs": [
    {
     "name": "stdout",
     "output_type": "stream",
     "text": [
      "Train for 296 steps, validate on 4200 samples\n",
      "Epoch 1/20\n",
      "296/296 [==============================] - 17s 57ms/step - loss: 0.5523 - accuracy: 0.8271 - val_loss: 0.0633 - val_accuracy: 0.9805\n",
      "Epoch 2/20\n",
      "296/296 [==============================] - 11s 37ms/step - loss: 0.1891 - accuracy: 0.9444 - val_loss: 0.0462 - val_accuracy: 0.9848\n",
      "Epoch 3/20\n",
      "296/296 [==============================] - 11s 38ms/step - loss: 0.1314 - accuracy: 0.9606 - val_loss: 0.0339 - val_accuracy: 0.9895\n",
      "Epoch 4/20\n",
      "296/296 [==============================] - 11s 37ms/step - loss: 0.1079 - accuracy: 0.9681 - val_loss: 0.0301 - val_accuracy: 0.9921\n",
      "Epoch 5/20\n",
      "296/296 [==============================] - 11s 37ms/step - loss: 0.0929 - accuracy: 0.9721 - val_loss: 0.0315 - val_accuracy: 0.9910\n",
      "Epoch 6/20\n",
      "296/296 [==============================] - 12s 40ms/step - loss: 0.0820 - accuracy: 0.9758 - val_loss: 0.0287 - val_accuracy: 0.9900\n",
      "Epoch 7/20\n",
      "296/296 [==============================] - 11s 38ms/step - loss: 0.0766 - accuracy: 0.9779 - val_loss: 0.0306 - val_accuracy: 0.9902\n",
      "Epoch 8/20\n",
      "296/296 [==============================] - 11s 38ms/step - loss: 0.0776 - accuracy: 0.9780 - val_loss: 0.0257 - val_accuracy: 0.9924\n",
      "Epoch 9/20\n",
      "296/296 [==============================] - 11s 37ms/step - loss: 0.0652 - accuracy: 0.9806 - val_loss: 0.0273 - val_accuracy: 0.9926\n",
      "Epoch 10/20\n",
      "296/296 [==============================] - 11s 37ms/step - loss: 0.0634 - accuracy: 0.9805 - val_loss: 0.0282 - val_accuracy: 0.9924\n",
      "Epoch 11/20\n",
      "296/296 [==============================] - 11s 38ms/step - loss: 0.0612 - accuracy: 0.9818 - val_loss: 0.0284 - val_accuracy: 0.9924\n",
      "Epoch 12/20\n",
      "296/296 [==============================] - 12s 40ms/step - loss: 0.0542 - accuracy: 0.9835 - val_loss: 0.0221 - val_accuracy: 0.9945\n",
      "Epoch 13/20\n",
      "296/296 [==============================] - 11s 37ms/step - loss: 0.0556 - accuracy: 0.9844 - val_loss: 0.0236 - val_accuracy: 0.9938\n",
      "Epoch 14/20\n",
      "296/296 [==============================] - 11s 38ms/step - loss: 0.0517 - accuracy: 0.9850 - val_loss: 0.0249 - val_accuracy: 0.9929\n",
      "Epoch 15/20\n",
      "296/296 [==============================] - 11s 37ms/step - loss: 0.0483 - accuracy: 0.9855 - val_loss: 0.0230 - val_accuracy: 0.9940\n",
      "Epoch 16/20\n",
      "296/296 [==============================] - 11s 37ms/step - loss: 0.0505 - accuracy: 0.9853 - val_loss: 0.0238 - val_accuracy: 0.9931\n",
      "Epoch 17/20\n",
      "296/296 [==============================] - 12s 42ms/step - loss: 0.0484 - accuracy: 0.9856 - val_loss: 0.0226 - val_accuracy: 0.9921\n",
      "Epoch 18/20\n",
      "296/296 [==============================] - 11s 38ms/step - loss: 0.0504 - accuracy: 0.9859 - val_loss: 0.0272 - val_accuracy: 0.9921\n",
      "Epoch 19/20\n",
      "296/296 [==============================] - 11s 37ms/step - loss: 0.0473 - accuracy: 0.9864 - val_loss: 0.0264 - val_accuracy: 0.9931\n",
      "Epoch 20/20\n",
      "296/296 [==============================] - 11s 38ms/step - loss: 0.0445 - accuracy: 0.9869 - val_loss: 0.0315 - val_accuracy: 0.9921\n"
     ]
    }
   ],
   "source": [
    "# Training the CNN\n",
    "\n",
    "history = model.fit_generator(datagen.flow(X_train,y_train, batch_size=128),\n",
    "                              epochs = 20, validation_data = (X_valid, y_valid))"
   ]
  },
  {
   "cell_type": "code",
   "execution_count": 35,
   "metadata": {},
   "outputs": [
    {
     "data": {
      "image/png": "[encoded data removed]",
      "text/plain": [
       "<Figure size 576x360 with 1 Axes>"
      ]
     },
     "metadata": {
      "needs_background": "light"
     },
     "output_type": "display_data"
    }
   ],
   "source": [
    "# Visualizing the convergence\n",
    "\n",
    "pd.DataFrame(history.history).plot(figsize = (8, 5))\n",
    "plt.gca().set_ylim(0, 1)\n",
    "plt.grid(True)\n",
    "plt.show()"
   ]
  },
  {
   "cell_type": "code",
   "execution_count": 36,
   "metadata": {},
   "outputs": [
    {
     "data": {
      "text/plain": [
       "array([2, 0, 9, ..., 3, 9, 2])"
      ]
     },
     "execution_count": 36,
     "metadata": {},
     "output_type": "execute_result"
    }
   ],
   "source": [
    "# Generating predictions on the test set\n",
    "\n",
    "X_test_scaled = X_test_scaled.reshape((28000, 28, 28, 1))\n",
    "cnn_pred_aug = model.predict_classes(X_test_scaled)\n",
    "cnn_pred_aug"
   ]
  },
  {
   "cell_type": "code",
   "execution_count": 37,
   "metadata": {},
   "outputs": [
    {
     "data": {
      "text/html": [
       "<div>\n",
       "<style scoped>\n",
       "    .dataframe tbody tr th:only-of-type {\n",
       "        vertical-align: middle;\n",
       "    }\n",
       "\n",
       "    .dataframe tbody tr th {\n",
       "        vertical-align: top;\n",
       "    }\n",
       "\n",
       "    .dataframe thead th {\n",
       "        text-align: right;\n",
       "    }\n",
       "</style>\n",
       "<table border=\"1\" class=\"dataframe\">\n",
       "  <thead>\n",
       "    <tr style=\"text-align: right;\">\n",
       "      <th></th>\n",
       "      <th>ImageId</th>\n",
       "      <th>Label</th>\n",
       "    </tr>\n",
       "  </thead>\n",
       "  <tbody>\n",
       "    <tr>\n",
       "      <th>0</th>\n",
       "      <td>1</td>\n",
       "      <td>2</td>\n",
       "    </tr>\n",
       "    <tr>\n",
       "      <th>1</th>\n",
       "      <td>2</td>\n",
       "      <td>0</td>\n",
       "    </tr>\n",
       "    <tr>\n",
       "      <th>2</th>\n",
       "      <td>3</td>\n",
       "      <td>9</td>\n",
       "    </tr>\n",
       "    <tr>\n",
       "      <th>3</th>\n",
       "      <td>4</td>\n",
       "      <td>0</td>\n",
       "    </tr>\n",
       "    <tr>\n",
       "      <th>4</th>\n",
       "      <td>5</td>\n",
       "      <td>3</td>\n",
       "    </tr>\n",
       "    <tr>\n",
       "      <th>...</th>\n",
       "      <td>...</td>\n",
       "      <td>...</td>\n",
       "    </tr>\n",
       "    <tr>\n",
       "      <th>27995</th>\n",
       "      <td>27996</td>\n",
       "      <td>9</td>\n",
       "    </tr>\n",
       "    <tr>\n",
       "      <th>27996</th>\n",
       "      <td>27997</td>\n",
       "      <td>7</td>\n",
       "    </tr>\n",
       "    <tr>\n",
       "      <th>27997</th>\n",
       "      <td>27998</td>\n",
       "      <td>3</td>\n",
       "    </tr>\n",
       "    <tr>\n",
       "      <th>27998</th>\n",
       "      <td>27999</td>\n",
       "      <td>9</td>\n",
       "    </tr>\n",
       "    <tr>\n",
       "      <th>27999</th>\n",
       "      <td>28000</td>\n",
       "      <td>2</td>\n",
       "    </tr>\n",
       "  </tbody>\n",
       "</table>\n",
       "<p>28000 rows × 2 columns</p>\n",
       "</div>"
      ],
      "text/plain": [
       "       ImageId  Label\n",
       "0            1      2\n",
       "1            2      0\n",
       "2            3      9\n",
       "3            4      0\n",
       "4            5      3\n",
       "...        ...    ...\n",
       "27995    27996      9\n",
       "27996    27997      7\n",
       "27997    27998      3\n",
       "27998    27999      9\n",
       "27999    28000      2\n",
       "\n",
       "[28000 rows x 2 columns]"
      ]
     },
     "execution_count": 37,
     "metadata": {},
     "output_type": "execute_result"
    }
   ],
   "source": [
    "# Saving the predictions in a dataframe\n",
    "\n",
    "pred_df_cnn = pd.DataFrame(columns = ['ImageId', 'Label'])\n",
    "pred_df_cnn['ImageId'] = np.arange(1, 28001)\n",
    "pred_df_cnn['Label'] = cnn_pred_aug\n",
    "pred_df_cnn"
   ]
  },
  {
   "cell_type": "code",
   "execution_count": 38,
   "metadata": {},
   "outputs": [],
   "source": [
    "# Writing the predictions in a csv file\n",
    "\n",
    "pred_df_cnn.to_csv('dl_with_aug_submission.csv', index = False)"
   ]
  },
  {
   "cell_type": "markdown",
   "execution_count": null,
   "metadata": {},
   "source": [
    "Ensemble CNN with Batch Normalization ( 7 CNNs used )"
   ]
  },
  {
   "cell_type": "code",
   "execution_count": 39,
   "metadata": {},
   "outputs": [],
   "source": [
    "# An empty list to store the ensemble of 7 CNNs\n",
    "\n",
    "model_list = []"
   ]
  },
  {
   "cell_type": "code",
   "execution_count": 40,
   "metadata": {},
   "outputs": [],
   "source": [
    "# Learning rate annealer\n",
    "\n",
    "reduce_lr = ReduceLROnPlateau(monitor='val_accuracy', \n",
    "                                patience=3, \n",
    "                                verbose=1, \n",
    "                                factor=0.2, \n",
    "                                min_lr=1e-6)"
   ]
  },
  {
   "cell_type": "code",
   "execution_count": 41,
   "metadata": {},
   "outputs": [],
   "source": [
    "# Creating 7 objects of the same CNN architecture and saving in model_list\n",
    "\n",
    "for i in range(7):\n",
    "    model = keras.models.Sequential([\n",
    "    keras.layers.Conv2D(32, kernel_size = 3, activation = 'relu', padding = 'same', input_shape = [28, 28, 1]),\n",
    "    keras.layers.BatchNormalization(),\n",
    "    keras.layers.Conv2D(64, kernel_size = 3, activation = 'relu', padding = 'same'),\n",
    "    keras.layers.MaxPool2D(),\n",
    "    keras.layers.Conv2D(32, kernel_size = 3, activation = 'relu', padding = 'same'),\n",
    "    keras.layers.BatchNormalization(),\n",
    "    keras.layers.Conv2D(64, kernel_size = 3, activation = 'relu', padding = 'same'),\n",
    "    keras.layers.MaxPool2D(),\n",
    "    keras.layers.Flatten(),\n",
    "    keras.layers.Dropout(0.25),\n",
    "    keras.layers.Dense(256, activation = 'relu'),\n",
    "    keras.layers.Dropout(0.5),\n",
    "    keras.layers.Dense(10, activation = 'softmax')])\n",
    "\n",
    "    model.compile(loss = 'sparse_categorical_crossentropy', optimizer = 'nadam', metrics = ['accuracy'])\n",
    "    model_list.append(model)\n"
   ]
  },
  {
   "cell_type": "code",
   "execution_count": 42,
   "metadata": {},
   "outputs": [
    {
     "data": {
      "text/plain": [
       "[<tensorflow.python.keras.engine.sequential.Sequential at 0x7f84341df6d8>,\n",
       " <tensorflow.python.keras.engine.sequential.Sequential at 0x7f8434195cc0>,\n",
       " <tensorflow.python.keras.engine.sequential.Sequential at 0x7f84340d7d68>,\n",
       " <tensorflow.python.keras.engine.sequential.Sequential at 0x7f843425ccf8>,\n",
       " <tensorflow.python.keras.engine.sequential.Sequential at 0x7f84946db518>,\n",
       " <tensorflow.python.keras.engine.sequential.Sequential at 0x7f8494a3bc88>,\n",
       " <tensorflow.python.keras.engine.sequential.Sequential at 0x7f8493fecba8>]"
      ]
     },
     "execution_count": 42,
     "metadata": {},
     "output_type": "execute_result"
    }
   ],
   "source": [
    "# Verifying the hashcodes\n",
    "\n",
    "model_list"
   ]
  },
  {
   "cell_type": "code",
   "execution_count": 43,
   "metadata": {},
   "outputs": [
    {
     "data": {
      "text/plain": [
       "(42000, 28, 28, 1)"
      ]
     },
     "execution_count": 43,
     "metadata": {},
     "output_type": "execute_result"
    }
   ],
   "source": [
    "# Reshaping to a tensor of rank 4\n",
    "\n",
    "X = X.reshape((42000, 28, 28, 1))\n",
    "X.shape"
   ]
  },
  {
   "cell_type": "code",
   "execution_count": 44,
   "metadata": {},
   "outputs": [
    {
     "name": "stdout",
     "output_type": "stream",
     "text": [
      "Train for 296 steps, validate on 4200 samples\n",
      "Epoch 1/30\n",
      "296/296 [==============================] - 13s 44ms/step - loss: 0.5518 - accuracy: 0.8318 - val_loss: 0.2957 - val_accuracy: 0.9476\n",
      "Epoch 2/30\n",
      "296/296 [==============================] - 12s 41ms/step - loss: 0.1733 - accuracy: 0.9476 - val_loss: 0.0506 - val_accuracy: 0.9850\n",
      "Epoch 3/30\n",
      "296/296 [==============================] - 11s 37ms/step - loss: 0.1309 - accuracy: 0.9607 - val_loss: 0.0464 - val_accuracy: 0.9864\n",
      "Epoch 4/30\n",
      "296/296 [==============================] - 11s 37ms/step - loss: 0.1039 - accuracy: 0.9694 - val_loss: 0.0427 - val_accuracy: 0.9862\n",
      "Epoch 5/30\n",
      "296/296 [==============================] - 11s 38ms/step - loss: 0.0897 - accuracy: 0.9735 - val_loss: 0.0336 - val_accuracy: 0.9888\n",
      "Epoch 6/30\n",
      "296/296 [==============================] - 11s 38ms/step - loss: 0.0811 - accuracy: 0.9767 - val_loss: 0.0369 - val_accuracy: 0.9902\n",
      "Epoch 7/30\n",
      "296/296 [==============================] - 12s 41ms/step - loss: 0.0676 - accuracy: 0.9802 - val_loss: 0.0372 - val_accuracy: 0.9888\n",
      "Epoch 8/30\n",
      "296/296 [==============================] - 11s 38ms/step - loss: 0.0671 - accuracy: 0.9799 - val_loss: 0.0261 - val_accuracy: 0.9926\n",
      "Epoch 9/30\n",
      "296/296 [==============================] - 11s 37ms/step - loss: 0.0604 - accuracy: 0.9810 - val_loss: 0.0299 - val_accuracy: 0.9917\n",
      "Epoch 10/30\n",
      "296/296 [==============================] - 11s 37ms/step - loss: 0.0638 - accuracy: 0.9813 - val_loss: 0.0405 - val_accuracy: 0.9876\n",
      "Epoch 11/30\n",
      "294/296 [============================>.] - ETA: 0s - loss: 0.0555 - accuracy: 0.9837\n",
      "Epoch 00011: ReduceLROnPlateau reducing learning rate to 0.00020000000949949026.\n",
      "296/296 [==============================] - 11s 37ms/step - loss: 0.0555 - accuracy: 0.9838 - val_loss: 0.0278 - val_accuracy: 0.9926\n",
      "Epoch 12/30\n",
      "296/296 [==============================] - 12s 40ms/step - loss: 0.0408 - accuracy: 0.9874 - val_loss: 0.0195 - val_accuracy: 0.9943\n",
      "Epoch 13/30\n",
      "296/296 [==============================] - 11s 37ms/step - loss: 0.0406 - accuracy: 0.9880 - val_loss: 0.0187 - val_accuracy: 0.9945\n",
      "Epoch 14/30\n",
      "296/296 [==============================] - 11s 38ms/step - loss: 0.0326 - accuracy: 0.9894 - val_loss: 0.0203 - val_accuracy: 0.9950\n",
      "Epoch 15/30\n",
      "296/296 [==============================] - 11s 37ms/step - loss: 0.0326 - accuracy: 0.9899 - val_loss: 0.0219 - val_accuracy: 0.9938\n",
      "Epoch 16/30\n",
      "296/296 [==============================] - 11s 37ms/step - loss: 0.0343 - accuracy: 0.9894 - val_loss: 0.0201 - val_accuracy: 0.9943\n",
      "Epoch 17/30\n",
      "295/296 [============================>.] - ETA: 0s - loss: 0.0316 - accuracy: 0.9901\n",
      "Epoch 00017: ReduceLROnPlateau reducing learning rate to 4.0000001899898055e-05.\n",
      "296/296 [==============================] - 12s 40ms/step - loss: 0.0318 - accuracy: 0.9901 - val_loss: 0.0205 - val_accuracy: 0.9945\n",
      "Epoch 18/30\n",
      "296/296 [==============================] - 12s 40ms/step - loss: 0.0269 - accuracy: 0.9922 - val_loss: 0.0187 - val_accuracy: 0.9950\n",
      "Epoch 19/30\n",
      "296/296 [==============================] - 11s 37ms/step - loss: 0.0258 - accuracy: 0.9921 - val_loss: 0.0179 - val_accuracy: 0.9952\n",
      "Epoch 20/30\n",
      "296/296 [==============================] - 11s 38ms/step - loss: 0.0279 - accuracy: 0.9913 - val_loss: 0.0179 - val_accuracy: 0.9948\n",
      "Epoch 21/30\n",
      "296/296 [==============================] - 11s 37ms/step - loss: 0.0258 - accuracy: 0.9920 - val_loss: 0.0176 - val_accuracy: 0.9952\n",
      "Epoch 22/30\n",
      "296/296 [==============================] - 11s 38ms/step - loss: 0.0261 - accuracy: 0.9923 - val_loss: 0.0170 - val_accuracy: 0.9957\n",
      "Epoch 23/30\n",
      "296/296 [==============================] - 12s 41ms/step - loss: 0.0246 - accuracy: 0.9926 - val_loss: 0.0170 - val_accuracy: 0.9952\n",
      "Epoch 24/30\n",
      "296/296 [==============================] - 12s 39ms/step - loss: 0.0246 - accuracy: 0.9922 - val_loss: 0.0164 - val_accuracy: 0.9948\n",
      "Epoch 25/30\n",
      "294/296 [============================>.] - ETA: 0s - loss: 0.0257 - accuracy: 0.9923\n",
      "Epoch 00025: ReduceLROnPlateau reducing learning rate to 8.000000525498762e-06.\n",
      "296/296 [==============================] - 12s 39ms/step - loss: 0.0256 - accuracy: 0.9923 - val_loss: 0.0173 - val_accuracy: 0.9950\n",
      "Epoch 26/30\n",
      "296/296 [==============================] - 12s 41ms/step - loss: 0.0248 - accuracy: 0.9923 - val_loss: 0.0172 - val_accuracy: 0.9948\n",
      "Epoch 27/30\n",
      "296/296 [==============================] - 11s 39ms/step - loss: 0.0246 - accuracy: 0.9932 - val_loss: 0.0173 - val_accuracy: 0.9950\n",
      "Epoch 28/30\n",
      "294/296 [============================>.] - ETA: 0s - loss: 0.0248 - accuracy: 0.9923\n",
      "Epoch 00028: ReduceLROnPlateau reducing learning rate to 1.6000001778593287e-06.\n",
      "296/296 [==============================] - 13s 44ms/step - loss: 0.0247 - accuracy: 0.9923 - val_loss: 0.0172 - val_accuracy: 0.9950\n",
      "Epoch 29/30\n",
      "296/296 [==============================] - 12s 39ms/step - loss: 0.0240 - accuracy: 0.9928 - val_loss: 0.0172 - val_accuracy: 0.9950\n",
      "Epoch 30/30\n",
      "296/296 [==============================] - 12s 40ms/step - loss: 0.0235 - accuracy: 0.9929 - val_loss: 0.0173 - val_accuracy: 0.9950\n",
      "CNN : 1 Maximum Train Accuracy : 0.9931746125221252 Maximum Validation Accuracy : 0.9957143068313599\n",
      "Train for 296 steps, validate on 4200 samples\n",
      "Epoch 1/30\n",
      "296/296 [==============================] - 13s 45ms/step - loss: 0.5546 - accuracy: 0.8285 - val_loss: 0.1776 - val_accuracy: 0.9740\n",
      "Epoch 2/30\n",
      "296/296 [==============================] - 12s 40ms/step - loss: 0.1791 - accuracy: 0.9469 - val_loss: 0.0859 - val_accuracy: 0.9729\n",
      "Epoch 3/30\n",
      "296/296 [==============================] - 13s 43ms/step - loss: 0.1278 - accuracy: 0.9625 - val_loss: 0.0435 - val_accuracy: 0.9876\n",
      "Epoch 4/30\n",
      "296/296 [==============================] - 12s 40ms/step - loss: 0.1024 - accuracy: 0.9696 - val_loss: 0.0527 - val_accuracy: 0.9857\n",
      "Epoch 5/30\n",
      "296/296 [==============================] - 11s 38ms/step - loss: 0.0880 - accuracy: 0.9734 - val_loss: 0.0356 - val_accuracy: 0.9900\n",
      "Epoch 6/30\n",
      "296/296 [==============================] - 11s 38ms/step - loss: 0.0868 - accuracy: 0.9744 - val_loss: 0.0414 - val_accuracy: 0.9881\n",
      "Epoch 7/30\n",
      "296/296 [==============================] - 12s 42ms/step - loss: 0.0760 - accuracy: 0.9773 - val_loss: 0.0328 - val_accuracy: 0.9910\n",
      "Epoch 8/30\n",
      "296/296 [==============================] - 13s 45ms/step - loss: 0.0671 - accuracy: 0.9799 - val_loss: 0.0350 - val_accuracy: 0.9910\n",
      "Epoch 9/30\n",
      "296/296 [==============================] - 12s 39ms/step - loss: 0.0642 - accuracy: 0.9806 - val_loss: 0.0395 - val_accuracy: 0.9874\n",
      "Epoch 10/30\n",
      "294/296 [============================>.] - ETA: 0s - loss: 0.0608 - accuracy: 0.9826\n",
      "Epoch 00010: ReduceLROnPlateau reducing learning rate to 0.00020000000949949026.\n",
      "296/296 [==============================] - 11s 38ms/step - loss: 0.0610 - accuracy: 0.9826 - val_loss: 0.0331 - val_accuracy: 0.9910\n",
      "Epoch 11/30\n",
      "296/296 [==============================] - 12s 40ms/step - loss: 0.0455 - accuracy: 0.9865 - val_loss: 0.0265 - val_accuracy: 0.9926\n",
      "Epoch 12/30\n",
      "296/296 [==============================] - 12s 41ms/step - loss: 0.0402 - accuracy: 0.9878 - val_loss: 0.0254 - val_accuracy: 0.9929\n",
      "Epoch 13/30\n",
      "296/296 [==============================] - 13s 44ms/step - loss: 0.0386 - accuracy: 0.9878 - val_loss: 0.0241 - val_accuracy: 0.9936\n",
      "Epoch 14/30\n",
      "296/296 [==============================] - 12s 39ms/step - loss: 0.0382 - accuracy: 0.9892 - val_loss: 0.0224 - val_accuracy: 0.9940\n",
      "Epoch 15/30\n",
      "296/296 [==============================] - 11s 39ms/step - loss: 0.0338 - accuracy: 0.9897 - val_loss: 0.0232 - val_accuracy: 0.9940\n",
      "Epoch 16/30\n",
      "296/296 [==============================] - 12s 40ms/step - loss: 0.0346 - accuracy: 0.9895 - val_loss: 0.0266 - val_accuracy: 0.9924\n",
      "Epoch 17/30\n",
      "295/296 [============================>.] - ETA: 0s - loss: 0.0335 - accuracy: 0.9903\n",
      "Epoch 00017: ReduceLROnPlateau reducing learning rate to 4.0000001899898055e-05.\n",
      "296/296 [==============================] - 12s 41ms/step - loss: 0.0334 - accuracy: 0.9903 - val_loss: 0.0277 - val_accuracy: 0.9931\n",
      "Epoch 18/30\n",
      "296/296 [==============================] - 14s 46ms/step - loss: 0.0294 - accuracy: 0.9909 - val_loss: 0.0217 - val_accuracy: 0.9940\n",
      "Epoch 19/30\n",
      "296/296 [==============================] - 12s 41ms/step - loss: 0.0300 - accuracy: 0.9910 - val_loss: 0.0211 - val_accuracy: 0.9943\n",
      "Epoch 20/30\n",
      "296/296 [==============================] - 12s 39ms/step - loss: 0.0300 - accuracy: 0.9911 - val_loss: 0.0216 - val_accuracy: 0.9943\n",
      "Epoch 21/30\n",
      "296/296 [==============================] - 12s 40ms/step - loss: 0.0285 - accuracy: 0.9910 - val_loss: 0.0209 - val_accuracy: 0.9940\n",
      "Epoch 22/30\n",
      "296/296 [==============================] - 13s 43ms/step - loss: 0.0271 - accuracy: 0.9920 - val_loss: 0.0213 - val_accuracy: 0.9945\n",
      "Epoch 23/30\n",
      "296/296 [==============================] - 12s 41ms/step - loss: 0.0266 - accuracy: 0.9919 - val_loss: 0.0210 - val_accuracy: 0.9945\n",
      "Epoch 24/30\n",
      "296/296 [==============================] - 11s 38ms/step - loss: 0.0268 - accuracy: 0.9923 - val_loss: 0.0214 - val_accuracy: 0.9950\n",
      "Epoch 25/30\n",
      "296/296 [==============================] - 11s 38ms/step - loss: 0.0260 - accuracy: 0.9918 - val_loss: 0.0214 - val_accuracy: 0.9943\n",
      "Epoch 26/30\n",
      "296/296 [==============================] - 11s 38ms/step - loss: 0.0263 - accuracy: 0.9918 - val_loss: 0.0219 - val_accuracy: 0.9940\n",
      "Epoch 27/30\n",
      "295/296 [============================>.] - ETA: 0s - loss: 0.0267 - accuracy: 0.9919\n",
      "Epoch 00027: ReduceLROnPlateau reducing learning rate to 8.000000525498762e-06.\n",
      "296/296 [==============================] - 11s 38ms/step - loss: 0.0267 - accuracy: 0.9919 - val_loss: 0.0211 - val_accuracy: 0.9943\n",
      "Epoch 28/30\n",
      "296/296 [==============================] - 12s 42ms/step - loss: 0.0258 - accuracy: 0.9918 - val_loss: 0.0215 - val_accuracy: 0.9943\n",
      "Epoch 29/30\n",
      "296/296 [==============================] - 12s 40ms/step - loss: 0.0246 - accuracy: 0.9925 - val_loss: 0.0214 - val_accuracy: 0.9943\n",
      "Epoch 30/30\n",
      "294/296 [============================>.] - ETA: 0s - loss: 0.0251 - accuracy: 0.9921\n",
      "Epoch 00030: ReduceLROnPlateau reducing learning rate to 1.6000001778593287e-06.\n",
      "296/296 [==============================] - 11s 38ms/step - loss: 0.0252 - accuracy: 0.9920 - val_loss: 0.0213 - val_accuracy: 0.9940\n",
      "CNN : 2 Maximum Train Accuracy : 0.992460310459137 Maximum Validation Accuracy : 0.9950000047683716\n",
      "Train for 296 steps, validate on 4200 samples\n",
      "Epoch 1/30\n",
      "296/296 [==============================] - 13s 44ms/step - loss: 0.5299 - accuracy: 0.8371 - val_loss: 0.1961 - val_accuracy: 0.9695\n",
      "Epoch 2/30\n",
      "296/296 [==============================] - 11s 38ms/step - loss: 0.1926 - accuracy: 0.9448 - val_loss: 0.0482 - val_accuracy: 0.9862\n",
      "Epoch 3/30\n",
      "296/296 [==============================] - 13s 42ms/step - loss: 0.1290 - accuracy: 0.9624 - val_loss: 0.0390 - val_accuracy: 0.9876\n",
      "Epoch 4/30\n",
      "296/296 [==============================] - 11s 39ms/step - loss: 0.1011 - accuracy: 0.9699 - val_loss: 0.0733 - val_accuracy: 0.9802\n",
      "Epoch 5/30\n",
      "296/296 [==============================] - 11s 38ms/step - loss: 0.0900 - accuracy: 0.9725 - val_loss: 0.0302 - val_accuracy: 0.9912\n",
      "Epoch 6/30\n",
      "296/296 [==============================] - 11s 38ms/step - loss: 0.0790 - accuracy: 0.9764 - val_loss: 0.0220 - val_accuracy: 0.9938\n",
      "Epoch 7/30\n",
      "296/296 [==============================] - 11s 39ms/step - loss: 0.0726 - accuracy: 0.9782 - val_loss: 0.0374 - val_accuracy: 0.9890\n",
      "Epoch 8/30\n",
      "296/296 [==============================] - 13s 42ms/step - loss: 0.0647 - accuracy: 0.9816 - val_loss: 0.0302 - val_accuracy: 0.9914\n",
      "Epoch 9/30\n",
      "294/296 [============================>.] - ETA: 0s - loss: 0.0620 - accuracy: 0.9814\n",
      "Epoch 00009: ReduceLROnPlateau reducing learning rate to 0.00020000000949949026.\n",
      "296/296 [==============================] - 11s 39ms/step - loss: 0.0617 - accuracy: 0.9813 - val_loss: 0.0235 - val_accuracy: 0.9933\n",
      "Epoch 10/30\n",
      "296/296 [==============================] - 12s 39ms/step - loss: 0.0470 - accuracy: 0.9863 - val_loss: 0.0217 - val_accuracy: 0.9943\n",
      "Epoch 11/30\n",
      "296/296 [==============================] - 11s 38ms/step - loss: 0.0419 - accuracy: 0.9881 - val_loss: 0.0195 - val_accuracy: 0.9945\n",
      "Epoch 12/30\n",
      "296/296 [==============================] - 11s 38ms/step - loss: 0.0398 - accuracy: 0.9884 - val_loss: 0.0189 - val_accuracy: 0.9933\n",
      "Epoch 13/30\n",
      "295/296 [============================>.] - ETA: 0s - loss: 0.0227 - accuracy: 0.9927\n",
      "Epoch 00030: ReduceLROnPlateau reducing learning rate to 1.6000001778593287e-06.\n",
      "296/296 [==============================] - 12s 40ms/step - loss: 0.0226 - accuracy: 0.9927 - val_loss: 0.0215 - val_accuracy: 0.9929\n",
      "CNN : 5 Maximum Train Accuracy : 0.9935978651046753 Maximum Validation Accuracy : 0.9940476417541504\n",
      "Train for 296 steps, validate on 4200 samples\n",
      "Epoch 1/30\n",
      "296/296 [==============================] - 13s 45ms/step - loss: 0.5181 - accuracy: 0.8426 - val_loss: 0.4635 - val_accuracy: 0.8719\n",
      "Epoch 2/30\n",
      "296/296 [==============================] - 12s 39ms/step - loss: 0.1750 - accuracy: 0.9486 - val_loss: 0.0526 - val_accuracy: 0.9826\n",
      "Epoch 3/30\n",
      "296/296 [==============================] - 11s 38ms/step - loss: 0.0364 - accuracy: 0.9897 - val_loss: 0.0238 - val_accuracy: 0.9938\n",
      "Epoch 14/30\n",
      "296/296 [==============================] - 11s 38ms/step - loss: 0.0347 - accuracy: 0.9895 - val_loss: 0.0216 - val_accuracy: 0.9950\n",
      "Epoch 15/30\n",
      "296/296 [==============================] - 11s 38ms/step - loss: 0.0334 - accuracy: 0.9897 - val_loss: 0.0209 - val_accuracy: 0.9940\n",
      "Epoch 16/30\n",
      "200/296 [===================>..........] - ETA: 3s - loss: 0.0311 - accuracy: 0.9909"
     ]
    }
   ],
   "source": [
    "# Training all the 7 CNNs in the ensemble together\n",
    "\n",
    "history = [0] * 7\n",
    "\n",
    "for i in range(7):\n",
    "    X_train, X_valid, y_train, y_valid = train_test_split(X, y, test_size = 0.1)\n",
    "    history[i] = model_list[i].fit_generator(datagen.flow(X_train, y_train, batch_size = 128), \n",
    "                                             epochs = 30, validation_data = (X_valid, y_valid), callbacks = [reduce_lr])\n",
    "    print(\"CNN : {} Maximum Train Accuracy : {} Maximum Validation Accuracy : {}\".format(i+1, max(history[i].history['accuracy']), max(history[i].history['val_accuracy'])))"
   ]
  },
  {
   "cell_type": "code",
   "execution_count": 45,
   "metadata": {},
   "outputs": [
    {
     "data": {
      "text/plain": [
       "(28000, 10)"
      ]
     },
     "execution_count": 45,
     "metadata": {},
     "output_type": "execute_result"
    }
   ],
   "source": [
    "# Creating a prediction tensor for applying the bagging technique\n",
    "\n",
    "ensemble_cnn_pred = np.zeros((X_test.shape[0], 10))\n",
    "ensemble_cnn_pred.shape"
   ]
  },
  {
   "cell_type": "code",
   "execution_count": 46,
   "metadata": {},
   "outputs": [],
   "source": [
    "# Generating and aggregating predictions\n",
    "\n",
    "for i in range(7):\n",
    "  ensemble_cnn_pred = ensemble_cnn_pred + model_list[i].predict(X_test_scaled)"
   ]
  },
  {
   "cell_type": "code",
   "execution_count": 47,
   "metadata": {},
   "outputs": [
    {
     "data": {
      "text/plain": [
       "7.000000060268759"
      ]
     },
     "execution_count": 47,
     "metadata": {},
     "output_type": "execute_result"
    }
   ],
   "source": [
    "# Verifying the predictions of the ensemble\n",
    "\n",
    "np.sum(ensemble_cnn_pred[0])"
   ]
  },
  {
   "cell_type": "code",
   "execution_count": 48,
   "metadata": {},
   "outputs": [
    {
     "data": {
      "text/plain": [
       "2"
      ]
     },
     "execution_count": 48,
     "metadata": {},
     "output_type": "execute_result"
    }
   ],
   "source": [
    "# Aggregating the predictions\n",
    "\n",
    "ensemble_cnn_pred = np.argmax(ensemble_cnn_pred, axis = 1)\n",
    "ensemble_cnn_pred[0]"
   ]
  },
  {
   "cell_type": "code",
   "execution_count": 49,
   "metadata": {},
   "outputs": [
    {
     "data": {
      "text/plain": [
       "(28000,)"
      ]
     },
     "execution_count": 49,
     "metadata": {},
     "output_type": "execute_result"
    }
   ],
   "source": [
    "# Verifying the shape\n",
    "\n",
    "ensemble_cnn_pred.shape"
   ]
  },
  {
   "cell_type": "code",
   "execution_count": 50,
   "metadata": {},
   "outputs": [
    {
     "data": {
      "text/html": [
       "<div>\n",
       "<style scoped>\n",
       "    .dataframe tbody tr th:only-of-type {\n",
       "        vertical-align: middle;\n",
       "    }\n",
       "\n",
       "    .dataframe tbody tr th {\n",
       "        vertical-align: top;\n",
       "    }\n",
       "\n",
       "    .dataframe thead th {\n",
       "        text-align: right;\n",
       "    }\n",
       "</style>\n",
       "<table border=\"1\" class=\"dataframe\">\n",
       "  <thead>\n",
       "    <tr style=\"text-align: right;\">\n",
       "      <th></th>\n",
       "      <th>ImageId</th>\n",
       "      <th>Label</th>\n",
       "    </tr>\n",
       "  </thead>\n",
       "  <tbody>\n",
       "    <tr>\n",
       "      <th>0</th>\n",
       "      <td>1</td>\n",
       "      <td>2</td>\n",
       "    </tr>\n",
       "    <tr>\n",
       "      <th>1</th>\n",
       "      <td>2</td>\n",
       "      <td>0</td>\n",
       "    </tr>\n",
       "    <tr>\n",
       "      <th>2</th>\n",
       "      <td>3</td>\n",
       "      <td>9</td>\n",
       "    </tr>\n",
       "    <tr>\n",
       "      <th>3</th>\n",
       "      <td>4</td>\n",
       "      <td>0</td>\n",
       "    </tr>\n",
       "    <tr>\n",
       "      <th>4</th>\n",
       "      <td>5</td>\n",
       "      <td>3</td>\n",
       "    </tr>\n",
       "    <tr>\n",
       "      <th>...</th>\n",
       "      <td>...</td>\n",
       "      <td>...</td>\n",
       "    </tr>\n",
       "    <tr>\n",
       "      <th>27995</th>\n",
       "      <td>27996</td>\n",
       "      <td>9</td>\n",
       "    </tr>\n",
       "    <tr>\n",
       "      <th>27996</th>\n",
       "      <td>27997</td>\n",
       "      <td>7</td>\n",
       "    </tr>\n",
       "    <tr>\n",
       "      <th>27997</th>\n",
       "      <td>27998</td>\n",
       "      <td>3</td>\n",
       "    </tr>\n",
       "    <tr>\n",
       "      <th>27998</th>\n",
       "      <td>27999</td>\n",
       "      <td>9</td>\n",
       "    </tr>\n",
       "    <tr>\n",
       "      <th>27999</th>\n",
       "      <td>28000</td>\n",
       "      <td>2</td>\n",
       "    </tr>\n",
       "  </tbody>\n",
       "</table>\n",
       "<p>28000 rows × 2 columns</p>\n",
       "</div>"
      ],
      "text/plain": [
       "       ImageId  Label\n",
       "0            1      2\n",
       "1            2      0\n",
       "2            3      9\n",
       "3            4      0\n",
       "4            5      3\n",
       "...        ...    ...\n",
       "27995    27996      9\n",
       "27996    27997      7\n",
       "27997    27998      3\n",
       "27998    27999      9\n",
       "27999    28000      2\n",
       "\n",
       "[28000 rows x 2 columns]"
      ]
     },
     "execution_count": 50,
     "metadata": {},
     "output_type": "execute_result"
    }
   ],
   "source": [
    "# Saving the predictions in a dataframe\n",
    "\n",
    "pred_df_ensemble_cnn = pd.DataFrame(columns = ['ImageId', 'Label'])\n",
    "pred_df_ensemble_cnn['ImageId'] = np.arange(1, 28001)\n",
    "pred_df_ensemble_cnn['Label'] = ensemble_cnn_pred\n",
    "pred_df_ensemble_cnn"
   ]
  },
  {
   "cell_type": "code",
   "execution_count": 51,
   "metadata": {},
   "outputs": [],
   "source": [
    "# Writing the predictions in a csv file\n",
    "\n",
    "pred_df_ensemble_cnn.to_csv('ensemble_cnn_with_aug_submission.csv', index = False)"
   ]
  },
  {
   "cell_type": "markdown",
   "execution_count": null,
   "metadata": {},
   "source": [
    "# Now let us cheat!\n",
    "> \n",
    "> **Fetch the entire MNIST dataset from the openml portal.**\n",
    "> **Train a Decision Tree Algorithm and allow it to overfit the entire MNIST dataset.**\n",
    "> **Once trained, the Decision Tree Model will explicitly remember each and every instance by heart (one can also use graphviz to plot the actual visual tree created during training.)**"
   ]
  },
  {
   "cell_type": "code",
   "execution_count": 52,
   "metadata": {},
   "outputs": [],
   "source": [
    "# fetching the entire MNIST dataset from openml\n",
    "\n",
    "from sklearn.datasets import fetch_openml\n",
    "dataset = fetch_openml('mnist_784', version=1)"
   ]
  },
  {
   "cell_type": "code",
   "execution_count": 53,
   "metadata": {},
   "outputs": [
    {
     "data": {
      "text/plain": [
       "(array([[0., 0., 0., ..., 0., 0., 0.],\n",
       "        [0., 0., 0., ..., 0., 0., 0.],\n",
       "        [0., 0., 0., ..., 0., 0., 0.],\n",
       "        ...,\n",
       "        [0., 0., 0., ..., 0., 0., 0.],\n",
       "        [0., 0., 0., ..., 0., 0., 0.],\n",
       "        [0., 0., 0., ..., 0., 0., 0.]]),\n",
       " array([5, 0, 4, ..., 4, 5, 6], dtype=int32))"
      ]
     },
     "execution_count": 53,
     "metadata": {},
     "output_type": "execute_result"
    }
   ],
   "source": [
    "# loading and preprocessing the dataset\n",
    "\n",
    "mnist_X = dataset.data\n",
    "mnist_y = dataset.target.astype(np.int32)\n",
    "mnist_X, mnist_y"
   ]
  },
  {
   "cell_type": "code",
   "execution_count": 54,
   "metadata": {},
   "outputs": [
    {
     "data": {
      "text/plain": [
       "1.0"
      ]
     },
     "execution_count": 54,
     "metadata": {},
     "output_type": "execute_result"
    }
   ],
   "source": [
    "# Scaling and implementing the Decision Tree Algorithm\n",
    "\n",
    "mnist_X = scaler.fit_transform(mnist_X)\n",
    "\n",
    "dtf_cheat = DecisionTreeClassifier()\n",
    "dtf_cheat.fit(mnist_X, mnist_y)\n",
    "dtf_cheat.score(mnist_X, mnist_y)"
   ]
  },
  {
   "cell_type": "code",
   "execution_count": 55,
   "metadata": {},
   "outputs": [],
   "source": [
    "mnist_test_set = X_test_scaled.reshape((28000, 784))"
   ]
  },
  {
   "cell_type": "code",
   "execution_count": 56,
   "metadata": {},
   "outputs": [
    {
     "data": {
      "text/plain": [
       "array([2, 0, 9, ..., 3, 9, 2], dtype=int32)"
      ]
     },
     "execution_count": 56,
     "metadata": {},
     "output_type": "execute_result"
    }
   ],
   "source": [
    "# Generating the predictions\n",
    "\n",
    "cheat_pred = dtf_cheat.predict(mnist_test_set)\n",
    "cheat_pred"
   ]
  },
  {
   "cell_type": "code",
   "execution_count": 57,
   "metadata": {},
   "outputs": [
    {
     "data": {
      "text/html": [
       "<div>\n",
       "<style scoped>\n",
       "    .dataframe tbody tr th:only-of-type {\n",
       "        vertical-align: middle;\n",
       "    }\n",
       "\n",
       "    .dataframe tbody tr th {\n",
       "        vertical-align: top;\n",
       "    }\n",
       "\n",
       "    .dataframe thead th {\n",
       "        text-align: right;\n",
       "    }\n",
       "</style>\n",
       "<table border=\"1\" class=\"dataframe\">\n",
       "  <thead>\n",
       "    <tr style=\"text-align: right;\">\n",
       "      <th></th>\n",
       "      <th>ImageId</th>\n",
       "      <th>Label</th>\n",
       "    </tr>\n",
       "  </thead>\n",
       "  <tbody>\n",
       "    <tr>\n",
       "      <th>0</th>\n",
       "      <td>1</td>\n",
       "      <td>2</td>\n",
       "    </tr>\n",
       "    <tr>\n",
       "      <th>1</th>\n",
       "      <td>2</td>\n",
       "      <td>0</td>\n",
       "    </tr>\n",
       "    <tr>\n",
       "      <th>2</th>\n",
       "      <td>3</td>\n",
       "      <td>9</td>\n",
       "    </tr>\n",
       "    <tr>\n",
       "      <th>3</th>\n",
       "      <td>4</td>\n",
       "      <td>0</td>\n",
       "    </tr>\n",
       "    <tr>\n",
       "      <th>4</th>\n",
       "      <td>5</td>\n",
       "      <td>2</td>\n",
       "    </tr>\n",
       "    <tr>\n",
       "      <th>...</th>\n",
       "      <td>...</td>\n",
       "      <td>...</td>\n",
       "    </tr>\n",
       "    <tr>\n",
       "      <th>27995</th>\n",
       "      <td>27996</td>\n",
       "      <td>4</td>\n",
       "    </tr>\n",
       "    <tr>\n",
       "      <th>27996</th>\n",
       "      <td>27997</td>\n",
       "      <td>2</td>\n",
       "    </tr>\n",
       "    <tr>\n",
       "      <th>27997</th>\n",
       "      <td>27998</td>\n",
       "      <td>3</td>\n",
       "    </tr>\n",
       "    <tr>\n",
       "      <th>27998</th>\n",
       "      <td>27999</td>\n",
       "      <td>9</td>\n",
       "    </tr>\n",
       "    <tr>\n",
       "      <th>27999</th>\n",
       "      <td>28000</td>\n",
       "      <td>2</td>\n",
       "    </tr>\n",
       "  </tbody>\n",
       "</table>\n",
       "<p>28000 rows × 2 columns</p>\n",
       "</div>"
      ],
      "text/plain": [
       "       ImageId  Label\n",
       "0            1      2\n",
       "1            2      0\n",
       "2            3      9\n",
       "3            4      0\n",
       "4            5      2\n",
       "...        ...    ...\n",
       "27995    27996      4\n",
       "27996    27997      2\n",
       "27997    27998      3\n",
       "27998    27999      9\n",
       "27999    28000      2\n",
       "\n",
       "[28000 rows x 2 columns]"
      ]
     },
     "execution_count": 57,
     "metadata": {},
     "output_type": "execute_result"
    }
   ],
   "source": [
    "# Saving the predictions in a dataframe\n",
    "\n",
    "cheat_dt = pd.DataFrame(columns = ['ImageId', 'Label'])\n",
    "cheat_dt['ImageId'] = np.arange(1, 28001)\n",
    "cheat_dt['Label'] = cheat_pred\n",
    "cheat_dt"
   ]
  },
  {
   "cell_type": "code",
   "execution_count": 58,
   "metadata": {},
   "outputs": [],
   "source": [
    "# Writing the predictions in a csv file\n",
    "\n",
    "cheat_dt.to_csv('cheat_solution_dt.csv', index = False)"
   ]
  },
  {
   "cell_type": "markdown",
   "execution_count": null,
   "metadata": {},
   "source": [
    "> I sincerely hope you found something useful by reading this kernel!\n",
    "> \n",
    "> Happy Kaggling!"
   ]
  }
 ],
 "metadata": {
  "kernelspec": {
   "display_name": "Python 3",
   "language": "python",
   "name": "python3"
  },
  "language_info": {
   "codemirror_mode": {
    "name": "ipython",
    "version": 3
   },
   "file_extension": ".py",
   "mimetype": "text/x-python",
   "name": "python",
   "nbconvert_exporter": "python",
   "pygments_lexer": "ipython3",
   "version": "3.6.6"
  }
 },
 "nbformat": 4,
 "nbformat_minor": 4
}
